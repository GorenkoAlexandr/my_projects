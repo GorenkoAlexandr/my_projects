{
 "cells": [
  {
   "cell_type": "markdown",
   "metadata": {},
   "source": [
    "# LIBRARY"
   ]
  },
  {
   "cell_type": "code",
   "execution_count": 2,
   "metadata": {
    "id": "drwf82y19-OE"
   },
   "outputs": [],
   "source": [
    "import numpy as np \n",
    "import pandas as pd\n",
    "\n",
    "from sklearn.model_selection import train_test_split\n",
    "from sklearn.feature_selection import f_classif, mutual_info_classif\n",
    "from sklearn.preprocessing import PolynomialFeatures\n",
    "from sklearn.model_selection import KFold\n",
    "from sklearn.linear_model import LinearRegression\n",
    "from sklearn.preprocessing import LabelEncoder, OneHotEncoder, StandardScaler, MinMaxScaler\n",
    "from sklearn.model_selection import GridSearchCV\n",
    "from sklearn.ensemble import GradientBoostingRegressor\n",
    "from sklearn.ensemble import RandomForestRegressor\n",
    "from sklearn.ensemble import BaggingRegressor\n",
    "from sklearn.ensemble import StackingRegressor\n",
    "from sklearn.ensemble import ExtraTreesRegressor\n",
    "from sklearn.model_selection import RandomizedSearchCV\n",
    "from sklearn.multioutput import MultiOutputRegressor\n",
    "from sklearn.base import clone\n",
    "\n",
    "\n",
    "from sklearn.decomposition import PCA\n",
    "\n",
    "import xgboost as xgb\n",
    "from datetime import timedelta, datetime, date\n",
    "\n",
    "#import lazypredict\n",
    "#from lazypredict.Supervised import LazyRegressor\n",
    "#from catboost import CatBoostRegressor\n",
    "\n",
    "#from pandas_profiling import ProfileReport\n",
    "import matplotlib.pyplot as plt\n",
    "import seaborn as sns\n",
    "# from sklearn.metrics import accuracy_score\n",
    "from tqdm import tqdm\n",
    "# from tqdm import tnrange"
   ]
  },
  {
   "cell_type": "markdown",
   "metadata": {
    "id": "fuBvfftVEgeW"
   },
   "source": [
    "# SETUP"
   ]
  },
  {
   "cell_type": "code",
   "execution_count": 3,
   "metadata": {
    "id": "BKBNj-a0HHvh"
   },
   "outputs": [],
   "source": [
    "# зафиксируем версию пакетов, чтобы эксперименты были воспроизводимы:\n",
    "!pip freeze > requirements.txt\n",
    "\n",
    "VERSION    = 16\n",
    "VAL_SIZE   = 0.20   # 20%\n",
    "RANDOM_SEED = 42\n",
    "\n",
    "x_size = 8\n",
    "y_size = 5"
   ]
  },
  {
   "cell_type": "markdown",
   "metadata": {
    "id": "DOJ-REm3keN6"
   },
   "source": [
    "# FUNCTIONS"
   ]
  },
  {
   "cell_type": "code",
   "execution_count": 4,
   "metadata": {
    "_kg_hide-input": true,
    "id": "ry37nWEp__xy"
   },
   "outputs": [],
   "source": [
    "def mape(y_true, y_pred):\n",
    "    \"\"\"функция целевой метрики\"\"\"\n",
    "    return np.mean(np.abs((y_pred-y_true)/y_true))"
   ]
  },
  {
   "cell_type": "code",
   "execution_count": 5,
   "metadata": {
    "id": "pjKNDOk6YhdS"
   },
   "outputs": [],
   "source": [
    "def getCountPlot(df, feature, x_s=x_size, y_s=y_size):\n",
    "    \"\"\"строим график распределения признака\"\"\"\n",
    "    plt.figure(figsize=(x_s, y_s))\n",
    "    sns.countplot(data=df,\n",
    "            order = df[feature].value_counts().index, \n",
    "            y=feature)\n",
    "    plt.title(f'Распределение значений признака {feature}')\n",
    "    plt.show;"
   ]
  },
  {
   "cell_type": "code",
   "execution_count": 6,
   "metadata": {
    "id": "9i1kP8eVpewO"
   },
   "outputs": [],
   "source": [
    "def interquartile_range(series, x_s=x_size, y_s=y_size, bins=50):\n",
    "    '''\n",
    "    Вычисляет межквартильный размах в серии\n",
    "    series - Pandas Series\n",
    "    x_s (int) - размер оси x\n",
    "    y_s (int) - размер оси y\n",
    "    bins (int) - количество столбцов гистограммы\n",
    "    '''\n",
    "    IQR = series.quantile(0.75) - series.quantile(0.25)\n",
    "    perc25, perc75 = series.quantile(0.25), series.quantile(0.75)\n",
    "    f, l = perc25 - 1.5*IQR, perc75 + 1.5*IQR\n",
    "\n",
    "    title = f'25-й перцентиль: {perc25}, \\\n",
    "    75-й перцентиль: {perc75},\\nIQR: {IQR}, границы выбросов: [{f}, {l}]'\n",
    "\n",
    "    plt.figure(figsize=(x_s, y_s))\n",
    "    sns.histplot(data=series.loc[series.between(perc25 - 1.5*IQR,\n",
    "                                                perc75 + 1.5*IQR)], bins=bins)\n",
    "    plt.title(f'IQR\\n{title}');"
   ]
  },
  {
   "cell_type": "code",
   "execution_count": 7,
   "metadata": {
    "id": "27ab4yZoy0Xt"
   },
   "outputs": [],
   "source": [
    "def replace_outliers(val, low, high):\n",
    "    \"\"\" функция для обработки выбрасов\n",
    "    val = значение\n",
    "    low = q_1 - IQR * 1.5\n",
    "    high = q_3 + IQR * 1.5 \"\"\"\n",
    "    \n",
    "    if val < low:\n",
    "        return low\n",
    "    \n",
    "    elif val > high:\n",
    "        return high\n",
    "    \n",
    "    else:\n",
    "        return val"
   ]
  },
  {
   "cell_type": "markdown",
   "metadata": {
    "id": "fU9kUhNmqpi7"
   },
   "source": [
    "# DATA"
   ]
  },
  {
   "cell_type": "code",
   "execution_count": 8,
   "metadata": {},
   "outputs": [],
   "source": [
    "train = pd.read_csv(r'parsing_auto_ru.csv', sep='\\t', low_memory = False)  # датасет для обучения модели\n",
    "test = pd.read_csv(r'test.csv')\n",
    "sample_submission = pd.read_csv(r'sample_submission.csv')"
   ]
  },
  {
   "cell_type": "code",
   "execution_count": 9,
   "metadata": {},
   "outputs": [
    {
     "data": {
      "text/plain": [
       "'train (113327, 33), test (34686, 32), sample_submission (34686, 2)'"
      ]
     },
     "metadata": {},
     "output_type": "display_data"
    }
   ],
   "source": [
    "display(f'train {train.shape}, test {test.shape}, sample_submission {sample_submission.shape}')"
   ]
  },
  {
   "cell_type": "markdown",
   "metadata": {
    "id": "GEubgLQ2eTmB"
   },
   "source": [
    "## Целевая переменная - price"
   ]
  },
  {
   "cell_type": "code",
   "execution_count": 10,
   "metadata": {
    "colab": {
     "base_uri": "https://localhost:8080/",
     "height": 334
    },
    "id": "VuDfdiiTvd4Z",
    "outputId": "0b9ede57-9396-46a1-cc7d-b5248982dd3f"
   },
   "outputs": [
    {
     "data": {
      "image/png": "[encoded data removed]",
      "text/plain": [
       "<Figure size 576x360 with 1 Axes>"
      ]
     },
     "metadata": {
      "needs_background": "light"
     },
     "output_type": "display_data"
    }
   ],
   "source": [
    "plt.figure(figsize=(8, 5))\n",
    "sns.histplot(data=train['price'], bins=50);"
   ]
  },
  {
   "cell_type": "markdown",
   "metadata": {
    "id": "z-xBKKuXhnyH"
   },
   "source": [
    "Видно, что есть небольшое количество очень низких цен. В результате выборочной проверки нескольких ссылок выяснилось, что это ошибка при сборе данных - эти автомобили уже были проданы. Можно удалить эти экстремальные данные "
   ]
  },
  {
   "cell_type": "code",
   "execution_count": 11,
   "metadata": {
    "colab": {
     "base_uri": "https://localhost:8080/"
    },
    "id": "MRci6ue5sKAN",
    "outputId": "b994f3cc-43d5-473c-8b8b-7911fe6522f7",
    "scrolled": true
   },
   "outputs": [
    {
     "data": {
      "text/plain": [
       "0.50           373\n",
       "0.85           104\n",
       "1.00            25\n",
       "3999.00         74\n",
       "12000.00         1\n",
       "              ... \n",
       "29000000.00      1\n",
       "29800000.00      1\n",
       "30850000.00      1\n",
       "62500000.00      1\n",
       "65000000.00      1\n",
       "Name: price, Length: 7419, dtype: int64"
      ]
     },
     "execution_count": 11,
     "metadata": {},
     "output_type": "execute_result"
    }
   ],
   "source": [
    "train.price.value_counts().sort_index()"
   ]
  },
  {
   "cell_type": "markdown",
   "metadata": {
    "id": "pBq-dN2Mwaph"
   },
   "source": [
    "* Цены меньше 3999 - явная ошибка при сборе данных\n",
    "* Цена 3999 - 74 автомобиля по такой цене - тоже ошибка (выборочная проверка показала, что автомобили уже проданы)\n",
    "* за 12 тысяч продаётся реальный [автомобиль](https://auto.ru/cars/used/sale/nissan/bluebird/1104156088-92a6cd31/)\n",
    "\n",
    "Т.о. удаляем строки с ценами меньше 12000"
   ]
  },
  {
   "cell_type": "code",
   "execution_count": 12,
   "metadata": {
    "id": "immEJ_A_wXCd"
   },
   "outputs": [],
   "source": [
    "train = train.query(\"price >= 12000\").reset_index(drop=True)"
   ]
  },
  {
   "cell_type": "markdown",
   "metadata": {
    "id": "zxIeulpt2K7z"
   },
   "source": [
    "## Первичный осмотр"
   ]
  },
  {
   "cell_type": "code",
   "execution_count": 13,
   "metadata": {
    "colab": {
     "base_uri": "https://localhost:8080/"
    },
    "id": "MaNGM6g1wOBc",
    "outputId": "9e3b90c8-2c62-4a28-c1f3-f7d8a1dac4db"
   },
   "outputs": [
    {
     "name": "stdout",
     "output_type": "stream",
     "text": [
      "<class 'pandas.core.frame.DataFrame'>\n",
      "RangeIndex: 112751 entries, 0 to 112750\n",
      "Data columns (total 33 columns):\n",
      " #   Column                Non-Null Count   Dtype  \n",
      "---  ------                --------------   -----  \n",
      " 0   bodyType              112751 non-null  object \n",
      " 1   brand                 112751 non-null  object \n",
      " 2   car_url               112751 non-null  object \n",
      " 3   color                 112751 non-null  object \n",
      " 4   complectation_dict    16972 non-null   object \n",
      " 5   description           112724 non-null  object \n",
      " 6   engineDisplacement    112751 non-null  object \n",
      " 7   enginePower           112751 non-null  object \n",
      " 8   equipment_dict        73347 non-null   object \n",
      " 9   fuelType              112751 non-null  object \n",
      " 10  image                 108758 non-null  object \n",
      " 11  mileage               112751 non-null  int64  \n",
      " 12  modelDate             112751 non-null  int64  \n",
      " 13  model_info            112751 non-null  object \n",
      " 14  model_name            112751 non-null  object \n",
      " 15  name                  112751 non-null  object \n",
      " 16  numberOfDoors         112751 non-null  int64  \n",
      " 17  parsing_unixtime      112751 non-null  int64  \n",
      " 18  priceCurrency         112751 non-null  object \n",
      " 19  productionDate        112751 non-null  int64  \n",
      " 20  sell_id               112751 non-null  int64  \n",
      " 21  super_gen             112751 non-null  object \n",
      " 22  vehicleConfiguration  112751 non-null  object \n",
      " 23  vehicleTransmission   112751 non-null  object \n",
      " 24  vendor                112699 non-null  object \n",
      " 25  Владельцы             112751 non-null  object \n",
      " 26  Владение              32964 non-null   object \n",
      " 27  ПТС                   112751 non-null  object \n",
      " 28  Привод                112751 non-null  object \n",
      " 29  Руль                  112751 non-null  object \n",
      " 30  Состояние             109844 non-null  object \n",
      " 31  Таможня               112751 non-null  object \n",
      " 32  price                 112751 non-null  float64\n",
      "dtypes: float64(1), int64(6), object(26)\n",
      "memory usage: 28.4+ MB\n",
      "None\n",
      "<class 'pandas.core.frame.DataFrame'>\n",
      "RangeIndex: 34686 entries, 0 to 34685\n",
      "Data columns (total 32 columns):\n",
      " #   Column                Non-Null Count  Dtype \n",
      "---  ------                --------------  ----- \n",
      " 0   bodyType              34686 non-null  object\n",
      " 1   brand                 34686 non-null  object\n",
      " 2   car_url               34686 non-null  object\n",
      " 3   color                 34686 non-null  object\n",
      " 4   complectation_dict    6418 non-null   object\n",
      " 5   description           34686 non-null  object\n",
      " 6   engineDisplacement    34686 non-null  object\n",
      " 7   enginePower           34686 non-null  object\n",
      " 8   equipment_dict        24690 non-null  object\n",
      " 9   fuelType              34686 non-null  object\n",
      " 10  image                 34686 non-null  object\n",
      " 11  mileage               34686 non-null  int64 \n",
      " 12  modelDate             34686 non-null  int64 \n",
      " 13  model_info            34686 non-null  object\n",
      " 14  model_name            34686 non-null  object\n",
      " 15  name                  34686 non-null  object\n",
      " 16  numberOfDoors         34686 non-null  int64 \n",
      " 17  parsing_unixtime      34686 non-null  int64 \n",
      " 18  priceCurrency         34686 non-null  object\n",
      " 19  productionDate        34686 non-null  int64 \n",
      " 20  sell_id               34686 non-null  int64 \n",
      " 21  super_gen             34686 non-null  object\n",
      " 22  vehicleConfiguration  34686 non-null  object\n",
      " 23  vehicleTransmission   34686 non-null  object\n",
      " 24  vendor                34686 non-null  object\n",
      " 25  Владельцы             34686 non-null  object\n",
      " 26  Владение              11995 non-null  object\n",
      " 27  ПТС                   34685 non-null  object\n",
      " 28  Привод                34686 non-null  object\n",
      " 29  Руль                  34686 non-null  object\n",
      " 30  Состояние             34686 non-null  object\n",
      " 31  Таможня               34686 non-null  object\n",
      "dtypes: int64(6), object(26)\n",
      "memory usage: 8.5+ MB\n",
      "None\n"
     ]
    }
   ],
   "source": [
    "# осмотрим тестовые и тренеровочные данные:\n",
    "for i in [train, test]:\n",
    "    print(i.info())"
   ]
  },
  {
   "cell_type": "code",
   "execution_count": 14,
   "metadata": {
    "id": "4-nUCx0ew8d1"
   },
   "outputs": [],
   "source": [
    "# отметим тренировочный и тестовый\n",
    "train['sample'] = 1\n",
    "test['sample'] = 0\n",
    "# соединим их вместе\n",
    "data = train.append(test, sort=False).reset_index(drop=True) # объединяем"
   ]
  },
  {
   "cell_type": "code",
   "execution_count": 15,
   "metadata": {
    "colab": {
     "base_uri": "https://localhost:8080/"
    },
    "id": "On0RMEXtxK10",
    "outputId": "6ce09aa3-7d50-4733-a04f-eff83f943970"
   },
   "outputs": [
    {
     "name": "stdout",
     "output_type": "stream",
     "text": [
      "<class 'pandas.core.frame.DataFrame'>\n",
      "RangeIndex: 147437 entries, 0 to 147436\n",
      "Data columns (total 34 columns):\n",
      " #   Column                Non-Null Count   Dtype  \n",
      "---  ------                --------------   -----  \n",
      " 0   bodyType              147437 non-null  object \n",
      " 1   brand                 147437 non-null  object \n",
      " 2   car_url               147437 non-null  object \n",
      " 3   color                 147437 non-null  object \n",
      " 4   complectation_dict    23390 non-null   object \n",
      " 5   description           147410 non-null  object \n",
      " 6   engineDisplacement    147437 non-null  object \n",
      " 7   enginePower           147437 non-null  object \n",
      " 8   equipment_dict        98037 non-null   object \n",
      " 9   fuelType              147437 non-null  object \n",
      " 10  image                 143444 non-null  object \n",
      " 11  mileage               147437 non-null  int64  \n",
      " 12  modelDate             147437 non-null  int64  \n",
      " 13  model_info            147437 non-null  object \n",
      " 14  model_name            147437 non-null  object \n",
      " 15  name                  147437 non-null  object \n",
      " 16  numberOfDoors         147437 non-null  int64  \n",
      " 17  parsing_unixtime      147437 non-null  int64  \n",
      " 18  priceCurrency         147437 non-null  object \n",
      " 19  productionDate        147437 non-null  int64  \n",
      " 20  sell_id               147437 non-null  int64  \n",
      " 21  super_gen             147437 non-null  object \n",
      " 22  vehicleConfiguration  147437 non-null  object \n",
      " 23  vehicleTransmission   147437 non-null  object \n",
      " 24  vendor                147385 non-null  object \n",
      " 25  Владельцы             147437 non-null  object \n",
      " 26  Владение              44959 non-null   object \n",
      " 27  ПТС                   147436 non-null  object \n",
      " 28  Привод                147437 non-null  object \n",
      " 29  Руль                  147437 non-null  object \n",
      " 30  Состояние             144530 non-null  object \n",
      " 31  Таможня               147437 non-null  object \n",
      " 32  price                 112751 non-null  float64\n",
      " 33  sample                147437 non-null  int64  \n",
      "dtypes: float64(1), int64(7), object(26)\n",
      "memory usage: 38.2+ MB\n"
     ]
    }
   ],
   "source": [
    "# осмотрим рабочие данные\n",
    "data.info()"
   ]
  },
  {
   "cell_type": "markdown",
   "metadata": {
    "id": "RBqUk_oiN8kn"
   },
   "source": [
    "## Описание полей\n",
    "\n",
    "\n",
    "1. bodyType - тип кузова\n",
    "1. brand - бренд автомобиля\n",
    "1. car_url - ссылка на объявление, уникальные\n",
    "1. color - цвет\n",
    "1. complectation_dict - описание комплектации (словарь)\n",
    "1. description - описание автомобиля продавцом\n",
    "1. engineDisplacement - объём двигателя\n",
    "1. enginePower - мощность двигателя\n",
    "1. equipment_dict - оснащенность автомобиля опциями\n",
    "1. fuelType - тип топлива\n",
    "1. image - фото\n",
    "1. mileage - пробег\n",
    "1. modelDate - год начала выпуска этой модели автомобиля \n",
    "1. model_info - общая информация об автомобиле (марка, модель, правила склонения в русском языке и т.д)\n",
    "1. model_name - название модели латиницей\n",
    "1. name - часть технического описания автомобиля, состоит из объёма двигателя, типа КПП и мощности двигателя\n",
    "1. numberOfDoors - количество дверей\n",
    "1. parsing_unixtime - время парсинга\n",
    "1. priceCurrency - валюта \"RUB\" Constant\n",
    "1. productionDate - год выпуска этого автомобиля\n",
    "1. sell_id id объявления\n",
    "1. super_gen - словарь с величинами технических признаков (клиренс, разгон до 100 км/ч, расход топлива и т.д)\n",
    "1. vehicleConfiguration - Конфигурация автомобиля, составной признак (тип кузова, КПП, мощность двигателя)\n",
    "1. vehicleTransmission - тип КПП\n",
    "1. vendor - для какого рынка выпущен автомобиль (Европа, Азия, Америка)\n",
    "1. Владельцы - количество прошлых владельцев автомобиля\n",
    "1. Владение - длительность владения автомобилем продавцом\n",
    "1. ПТС - оригинал/дубликат\n",
    "1. Привод - тип привода (передний, задний, полный)\n",
    "1. Руль - левый/правый\n",
    "1. Состояние - если авто требует ремонта - нет метки, есл не требует - значение \"Не требует ремонта\"\n",
    "1. Таможня - \"Растаможен\"\tConstant\n",
    "1. price - цена \n",
    "\n",
    "\n",
    "\n",
    "\n",
    "\n",
    "\n",
    "\n",
    "\n",
    "\n",
    "\n",
    "\n",
    "\n",
    "\n",
    "\n",
    "\n",
    "\n",
    "\n"
   ]
  },
  {
   "cell_type": "markdown",
   "metadata": {
    "id": "io_p5sLQy3iK"
   },
   "source": [
    "## Уникальность строк\n",
    "\n",
    "В датасете есть как минимум 2 признака, которые должны содержать уникальные значения\n",
    "* sell_id\n",
    "* car_url\n"
   ]
  },
  {
   "cell_type": "code",
   "execution_count": 16,
   "metadata": {
    "colab": {
     "base_uri": "https://localhost:8080/"
    },
    "id": "amX8Brfxx57L",
    "outputId": "db5cf979-3a6b-441a-ce82-41532daad80d"
   },
   "outputs": [
    {
     "data": {
      "text/plain": [
       "False"
      ]
     },
     "execution_count": 16,
     "metadata": {},
     "output_type": "execute_result"
    }
   ],
   "source": [
    "#  Проверим на уникальность всех id - есть не уникальные\n",
    "len(data) == data.sell_id.nunique()"
   ]
  },
  {
   "cell_type": "code",
   "execution_count": 17,
   "metadata": {
    "id": "_O7uurR0z3wa"
   },
   "outputs": [],
   "source": [
    "# удалим дубликаты из train\n",
    "data.drop_duplicates(subset=['sell_id'], keep='last',inplace=True)"
   ]
  },
  {
   "cell_type": "code",
   "execution_count": 18,
   "metadata": {
    "colab": {
     "base_uri": "https://localhost:8080/"
    },
    "id": "ApEfwE0kyo-0",
    "outputId": "8c6783b8-5bbe-4d9f-cd76-549b4ead6feb"
   },
   "outputs": [
    {
     "data": {
      "text/plain": [
       "0"
      ]
     },
     "execution_count": 18,
     "metadata": {},
     "output_type": "execute_result"
    }
   ],
   "source": [
    "# проверим на nan в sell_id  - отсутствуют\n",
    "len(data.sell_id) - data.sell_id.count()"
   ]
  },
  {
   "cell_type": "markdown",
   "metadata": {
    "id": "7iGjXcCv1tiS"
   },
   "source": [
    "## Пропуски данных"
   ]
  },
  {
   "cell_type": "code",
   "execution_count": 19,
   "metadata": {
    "colab": {
     "base_uri": "https://localhost:8080/"
    },
    "id": "sfNrcJFmcVIK",
    "outputId": "4efffa1b-328e-4723-ba8f-66a915c9dc83"
   },
   "outputs": [
    {
     "name": "stdout",
     "output_type": "stream",
     "text": [
      "Всего пропущенных данных 315692\n"
     ]
    }
   ],
   "source": [
    "# проверим на наличие пропусков\n",
    "print(f'Всего пропущенных данных {data.isna().sum().sum()}')"
   ]
  },
  {
   "cell_type": "code",
   "execution_count": 20,
   "metadata": {
    "colab": {
     "base_uri": "https://localhost:8080/"
    },
    "id": "f5bc4TkUyd1S",
    "outputId": "b4d9d34b-8006-4485-b732-007dee502161"
   },
   "outputs": [
    {
     "data": {
      "text/plain": [
       "bodyType                     0\n",
       "brand                        0\n",
       "car_url                      0\n",
       "color                        0\n",
       "complectation_dict      123112\n",
       "description                 27\n",
       "engineDisplacement           0\n",
       "enginePower                  0\n",
       "equipment_dict           49030\n",
       "fuelType                     0\n",
       "image                     3985\n",
       "mileage                      0\n",
       "modelDate                    0\n",
       "model_info                   0\n",
       "model_name                   0\n",
       "name                         0\n",
       "numberOfDoors                0\n",
       "parsing_unixtime             0\n",
       "priceCurrency                0\n",
       "productionDate               0\n",
       "sell_id                      0\n",
       "super_gen                    0\n",
       "vehicleConfiguration         0\n",
       "vehicleTransmission          0\n",
       "vendor                      52\n",
       "Владельцы                    0\n",
       "Владение                101903\n",
       "ПТС                          1\n",
       "Привод                       0\n",
       "Руль                         0\n",
       "Состояние                 2896\n",
       "Таможня                      0\n",
       "price                    34686\n",
       "sample                       0\n",
       "dtype: int64"
      ]
     },
     "execution_count": 20,
     "metadata": {},
     "output_type": "execute_result"
    }
   ],
   "source": [
    "data.isna().sum()"
   ]
  },
  {
   "cell_type": "markdown",
   "metadata": {
    "id": "M5acm4Wt2wNV"
   },
   "source": [
    "Очень много пропусков содержат:\n",
    "* complectation_dict\n",
    "* equipment_dict\n",
    "\n",
    "И хотя они очень содержательны (описывают технические характеристики автомобиля в очень широком спектре), от них придётся отказаться.\n",
    "Возможно стоит (в качестве эксперимента) в дальнейшем сапарсить данные, содержащие equipment_dict, добаввить их в датасет и обработать этот признак (например векторизовать)\n",
    "\n",
    "* Владение - тоже исключаем\n",
    "\n",
    "* description - можно удалить всесь признак, так как в значения попали не только описания владельцев, но и общий рекламный текст (ошибка при парсинге)\n",
    "\n",
    "* image - без фото как правило объявления о битых машинах, удаляем этот признак.\n",
    "\n",
    "* vendor - можно заполнить пропуски наиболее частым значением\n",
    "\n",
    "* ПТС - тоже заполнить самым частым\n",
    "\n",
    "* Состояние - необходимо пропуски заполнить значением \"Требует ремонта\"\n",
    "\n",
    "* model_info - дублирует имеющиеся признаки - удалить\n"
   ]
  },
  {
   "cell_type": "code",
   "execution_count": 21,
   "metadata": {
    "id": "c7D7l2LyXQiU"
   },
   "outputs": [],
   "source": [
    "# Удалим признаки, содержащие слишком большое число пропусков или те, которые точно не нужны\n",
    "data.drop(['complectation_dict', 'equipment_dict','image', 'Владение','Таможня',\n",
    "           'priceCurrency','model_info'], axis=1, inplace=True)\n"
   ]
  },
  {
   "cell_type": "markdown",
   "metadata": {
    "id": "n-vf3SQaaN5x"
   },
   "source": [
    "* priceCurrency - валюта везде одна\n",
    "* Таможня - все значения \"Растаможен\"\n"
   ]
  },
  {
   "cell_type": "markdown",
   "metadata": {
    "id": "zcTbyhfsZ7Ka"
   },
   "source": [
    "Заполним пропуски в vendor, ПТС и Состояние\n",
    "\n"
   ]
  },
  {
   "cell_type": "code",
   "execution_count": 22,
   "metadata": {
    "id": "XUjC92029CHK"
   },
   "outputs": [],
   "source": [
    "# Заменяем самым частым значением\n",
    "for i in ['vendor','ПТС']:\n",
    "    top = data[i].describe()['top']\n",
    "    data[i] = data[i].fillna(top)\n",
    "\n",
    "# Следуя логике - это бинарный признак\n",
    "data['Состояние'] = data['Состояние'] .fillna('Требует ремонта')"
   ]
  },
  {
   "cell_type": "markdown",
   "metadata": {
    "id": "iQO1owivY68h"
   },
   "source": [
    "Удалим оставшиеся пустые значения в description                 "
   ]
  },
  {
   "cell_type": "code",
   "execution_count": 23,
   "metadata": {
    "id": "5kxFVWkuZLFp"
   },
   "outputs": [],
   "source": [
    "data.dropna(subset=['description'], inplace=True)"
   ]
  },
  {
   "cell_type": "markdown",
   "metadata": {
    "id": "Ue9i-1OiazB6"
   },
   "source": [
    "Проверим - остались ли пропуски в данных"
   ]
  },
  {
   "cell_type": "code",
   "execution_count": 24,
   "metadata": {
    "colab": {
     "base_uri": "https://localhost:8080/"
    },
    "id": "PvWgXTYGa37B",
    "outputId": "01fcf57c-0494-41db-e27d-fd2010904783"
   },
   "outputs": [
    {
     "name": "stdout",
     "output_type": "stream",
     "text": [
      "Всего пропущенных данных 34686\n"
     ]
    }
   ],
   "source": [
    "print(f'Всего пропущенных данных {data.isna().sum().sum()}')"
   ]
  },
  {
   "cell_type": "code",
   "execution_count": 25,
   "metadata": {
    "colab": {
     "base_uri": "https://localhost:8080/"
    },
    "id": "CzeuufvE_HGI",
    "outputId": "6cc283c0-8ef2-4277-b503-b4a55c5f8abe"
   },
   "outputs": [
    {
     "name": "stdout",
     "output_type": "stream",
     "text": [
      "<class 'pandas.core.frame.DataFrame'>\n",
      "Int64Index: 146296 entries, 0 to 147436\n",
      "Data columns (total 27 columns):\n",
      " #   Column                Non-Null Count   Dtype  \n",
      "---  ------                --------------   -----  \n",
      " 0   bodyType              146296 non-null  object \n",
      " 1   brand                 146296 non-null  object \n",
      " 2   car_url               146296 non-null  object \n",
      " 3   color                 146296 non-null  object \n",
      " 4   description           146296 non-null  object \n",
      " 5   engineDisplacement    146296 non-null  object \n",
      " 6   enginePower           146296 non-null  object \n",
      " 7   fuelType              146296 non-null  object \n",
      " 8   mileage               146296 non-null  int64  \n",
      " 9   modelDate             146296 non-null  int64  \n",
      " 10  model_name            146296 non-null  object \n",
      " 11  name                  146296 non-null  object \n",
      " 12  numberOfDoors         146296 non-null  int64  \n",
      " 13  parsing_unixtime      146296 non-null  int64  \n",
      " 14  productionDate        146296 non-null  int64  \n",
      " 15  sell_id               146296 non-null  int64  \n",
      " 16  super_gen             146296 non-null  object \n",
      " 17  vehicleConfiguration  146296 non-null  object \n",
      " 18  vehicleTransmission   146296 non-null  object \n",
      " 19  vendor                146296 non-null  object \n",
      " 20  Владельцы             146296 non-null  object \n",
      " 21  ПТС                   146296 non-null  object \n",
      " 22  Привод                146296 non-null  object \n",
      " 23  Руль                  146296 non-null  object \n",
      " 24  Состояние             146296 non-null  object \n",
      " 25  price                 111610 non-null  float64\n",
      " 26  sample                146296 non-null  int64  \n",
      "dtypes: float64(1), int64(7), object(19)\n",
      "memory usage: 31.3+ MB\n"
     ]
    }
   ],
   "source": [
    "data.info()"
   ]
  },
  {
   "cell_type": "markdown",
   "metadata": {
    "id": "NeRg1YJQA_nu"
   },
   "source": [
    "# NAIVE MODEL\n",
    "\n",
    "Эта модель будет предсказывать среднюю цену по модели двигателя (engineDisplacement). \n",
    "C ней будем сравнивать другие модели."
   ]
  },
  {
   "cell_type": "code",
   "execution_count": 26,
   "metadata": {
    "id": "OHVkIWlMVJEr"
   },
   "outputs": [],
   "source": [
    "# снова выделим train и test из подготовленных на этом этапе данных\n",
    "train = data[data['sample'] == 1].copy()\n",
    "test = data[data['sample'] == 0].copy()\n",
    "\n",
    "# для baseline просто возьму пару схожих признаков без полной обработки\n",
    "columns = ['bodyType','brand','color','engineDisplacement','enginePower',\n",
    "            'fuelType','model_name','name','numberOfDoors','productionDate',\n",
    "            'vehicleConfiguration','vehicleTransmission','Владельцы',\n",
    "            'Привод','Руль']\n",
    "\n",
    "\n",
    "df_train = train[columns].copy()\n",
    "df_test = test[columns].copy()\n",
    "y = train['price']"
   ]
  },
  {
   "cell_type": "markdown",
   "metadata": {
    "id": "Gup0n3NzAtVh"
   },
   "source": [
    "### Label Encoding"
   ]
  },
  {
   "cell_type": "code",
   "execution_count": 27,
   "metadata": {
    "colab": {
     "base_uri": "https://localhost:8080/"
    },
    "id": "rORsXIlhAn4O",
    "outputId": "9723a749-8355-48d1-b105-73f666f0aab5"
   },
   "outputs": [],
   "source": [
    "# ВАЖНО! дря корректной обработки признаков объединяем трейн и тест в один датасет\n",
    "df_train['sample'] = 1 # помечаем где у нас трейн\n",
    "df_test['sample'] = 0 # помечаем где у нас тест\n",
    "df_naiv = df_test.append(df_train, sort=False).reset_index(drop=True) # объединяем"
   ]
  },
  {
   "cell_type": "code",
   "execution_count": 28,
   "metadata": {
    "colab": {
     "base_uri": "https://localhost:8080/",
     "height": 168
    },
    "id": "Hxqg1zYAHldD",
    "outputId": "cd05b820-d60f-4e3f-a43b-8be42147813c"
   },
   "outputs": [
    {
     "data": {
      "text/html": [
       "<div>\n",
       "<style scoped>\n",
       "    .dataframe tbody tr th:only-of-type {\n",
       "        vertical-align: middle;\n",
       "    }\n",
       "\n",
       "    .dataframe tbody tr th {\n",
       "        vertical-align: top;\n",
       "    }\n",
       "\n",
       "    .dataframe thead th {\n",
       "        text-align: right;\n",
       "    }\n",
       "</style>\n",
       "<table border=\"1\" class=\"dataframe\">\n",
       "  <thead>\n",
       "    <tr style=\"text-align: right;\">\n",
       "      <th></th>\n",
       "      <th>bodyType</th>\n",
       "      <th>brand</th>\n",
       "      <th>color</th>\n",
       "      <th>engineDisplacement</th>\n",
       "      <th>enginePower</th>\n",
       "      <th>fuelType</th>\n",
       "      <th>model_name</th>\n",
       "      <th>name</th>\n",
       "      <th>numberOfDoors</th>\n",
       "      <th>productionDate</th>\n",
       "      <th>vehicleConfiguration</th>\n",
       "      <th>vehicleTransmission</th>\n",
       "      <th>Владельцы</th>\n",
       "      <th>Привод</th>\n",
       "      <th>Руль</th>\n",
       "      <th>sample</th>\n",
       "    </tr>\n",
       "  </thead>\n",
       "  <tbody>\n",
       "    <tr>\n",
       "      <th>87150</th>\n",
       "      <td>седан</td>\n",
       "      <td>AUDI</td>\n",
       "      <td>серебристый</td>\n",
       "      <td>1.8 LTR</td>\n",
       "      <td>160 N12</td>\n",
       "      <td>бензин</td>\n",
       "      <td>A4</td>\n",
       "      <td>1.8 CVT (160 л.с.)</td>\n",
       "      <td>4</td>\n",
       "      <td>2011</td>\n",
       "      <td>SEDAN VARIATOR 1.8</td>\n",
       "      <td>вариатор</td>\n",
       "      <td>3 или более</td>\n",
       "      <td>передний</td>\n",
       "      <td>Левый</td>\n",
       "      <td>1</td>\n",
       "    </tr>\n",
       "  </tbody>\n",
       "</table>\n",
       "</div>"
      ],
      "text/plain": [
       "      bodyType brand        color engineDisplacement enginePower fuelType  \\\n",
       "87150    седан  AUDI  серебристый            1.8 LTR     160 N12   бензин   \n",
       "\n",
       "      model_name                name  numberOfDoors  productionDate  \\\n",
       "87150         A4  1.8 CVT (160 л.с.)              4            2011   \n",
       "\n",
       "      vehicleConfiguration vehicleTransmission    Владельцы    Привод   Руль  \\\n",
       "87150   SEDAN VARIATOR 1.8            вариатор  3 или более  передний  Левый   \n",
       "\n",
       "       sample  \n",
       "87150       1  "
      ]
     },
     "execution_count": 28,
     "metadata": {},
     "output_type": "execute_result"
    }
   ],
   "source": [
    "df_naiv.sample()"
   ]
  },
  {
   "cell_type": "code",
   "execution_count": 29,
   "metadata": {
    "id": "sdKR3q0eBKiq"
   },
   "outputs": [],
   "source": [
    "for colum in ['bodyType', 'brand', 'color', 'engineDisplacement']:\n",
    "    df_naiv[colum] = df_naiv[colum].astype('category').cat.codes"
   ]
  },
  {
   "cell_type": "code",
   "execution_count": 30,
   "metadata": {
    "id": "OlzKBwqfBO8b"
   },
   "outputs": [],
   "source": [
    "X = df_naiv.query('sample == 1').drop(['sample'], axis=1)\n",
    "X_sub = df_naiv.query('sample == 0').drop(['sample'], axis=1)"
   ]
  },
  {
   "cell_type": "markdown",
   "metadata": {
    "id": "trcjXYkeBeqg"
   },
   "source": [
    "### Train Split"
   ]
  },
  {
   "cell_type": "code",
   "execution_count": 31,
   "metadata": {
    "id": "tBjjGZYDBbCf"
   },
   "outputs": [],
   "source": [
    "X_train, X_test, y_train, y_test = train_test_split(X, y, test_size=VAL_SIZE, shuffle=True, random_state=RANDOM_SEED)"
   ]
  },
  {
   "cell_type": "code",
   "execution_count": 32,
   "metadata": {
    "id": "v2Gfh_fGB2lL"
   },
   "outputs": [],
   "source": [
    "tmp_train = X_train.copy()\n",
    "tmp_train['price'] = y_train"
   ]
  },
  {
   "cell_type": "code",
   "execution_count": 33,
   "metadata": {
    "colab": {
     "base_uri": "https://localhost:8080/"
    },
    "id": "LCOLTGo8B5op",
    "outputId": "5b6b6c78-a6a3-4f70-897e-ea2ba6da2b6a"
   },
   "outputs": [
    {
     "name": "stdout",
     "output_type": "stream",
     "text": [
      "Точность наивной модели по метрике MAPE: 138.04%\n"
     ]
    }
   ],
   "source": [
    "# Находим median по экземплярам engineDisplacement в трейне и размечаем тест\n",
    "predict = X_test['engineDisplacement'].map(tmp_train.groupby('engineDisplacement')['price'].median())\n",
    "\n",
    "#оцениваем точность\n",
    "print(f\"Точность наивной модели по метрике MAPE: {(mape(y_test, predict.values))*100:0.2f}%\")"
   ]
  },
  {
   "cell_type": "markdown",
   "metadata": {
    "id": "4BN9BXiK-nsN"
   },
   "source": [
    "# EDA"
   ]
  },
  {
   "cell_type": "markdown",
   "metadata": {
    "id": "ueNFn79kFrqr"
   },
   "source": [
    "## PANDAS PROFILING\n",
    "\n",
    "html доступен по ссылке\n",
    "\n",
    "[report.html](https://drive.google.com/file/d/1FQpFLa1_nhmWpQqQdFsRrj5RVkcBMUCu/view?usp=sharing)\n",
    "\n"
   ]
  },
  {
   "cell_type": "code",
   "execution_count": 34,
   "metadata": {
    "id": "R72jjTCQ07gy"
   },
   "outputs": [],
   "source": [
    "# profile = ProfileReport(data, title=\"Pandas Profiling Report\")\n",
    "# profile.to_notebook_iframe() # развёрнутый вид\n",
    "# profile.to_file(\"report.html\") # в файл"
   ]
  },
  {
   "cell_type": "markdown",
   "metadata": {
    "id": "f9yuBDYVlON7"
   },
   "source": [
    "## Категориальные признаки"
   ]
  },
  {
   "cell_type": "markdown",
   "metadata": {
    "id": "SEA0-w6JJmpI"
   },
   "source": [
    "### bodyType"
   ]
  },
  {
   "cell_type": "code",
   "execution_count": 35,
   "metadata": {
    "colab": {
     "base_uri": "https://localhost:8080/",
     "height": 350
    },
    "id": "dLPfAS7gNagB",
    "outputId": "aeaad892-0739-471d-98f6-44aaa3bc992a"
   },
   "outputs": [
    {
     "data": {
      "image/png": "[encoded data removed]",
      "text/plain": [
       "<Figure size 576x360 with 1 Axes>"
      ]
     },
     "metadata": {
      "needs_background": "light"
     },
     "output_type": "display_data"
    }
   ],
   "source": [
    "getCountPlot(data,'bodyType')"
   ]
  },
  {
   "cell_type": "markdown",
   "metadata": {
    "id": "4YLHK_PjZ0kT"
   },
   "source": [
    "### brand"
   ]
  },
  {
   "cell_type": "code",
   "execution_count": 36,
   "metadata": {
    "colab": {
     "base_uri": "https://localhost:8080/",
     "height": 350
    },
    "id": "OzoIltxtZ216",
    "outputId": "489a9bd3-7401-432b-bb18-a4319fb7d726"
   },
   "outputs": [
    {
     "data": {
      "image/png": "[encoded data removed]",
      "text/plain": [
       "<Figure size 576x360 with 1 Axes>"
      ]
     },
     "metadata": {
      "needs_background": "light"
     },
     "output_type": "display_data"
    }
   ],
   "source": [
    "getCountPlot (data,'brand')"
   ]
  },
  {
   "cell_type": "markdown",
   "metadata": {
    "id": "rARWmRqtQYEh"
   },
   "source": [
    "###  color"
   ]
  },
  {
   "cell_type": "code",
   "execution_count": 37,
   "metadata": {
    "colab": {
     "base_uri": "https://localhost:8080/",
     "height": 350
    },
    "id": "H20m9ChKQeA5",
    "outputId": "c0ef784c-82fc-40ce-8356-6b30afed2406"
   },
   "outputs": [
    {
     "data": {
      "image/png": "[encoded data removed]",
      "text/plain": [
       "<Figure size 576x360 with 1 Axes>"
      ]
     },
     "metadata": {
      "needs_background": "light"
     },
     "output_type": "display_data"
    }
   ],
   "source": [
    "getCountPlot(data,'color')"
   ]
  },
  {
   "cell_type": "markdown",
   "metadata": {
    "id": "KXPxVdCEV3DI"
   },
   "source": [
    "### description"
   ]
  },
  {
   "cell_type": "code",
   "execution_count": 38,
   "metadata": {
    "colab": {
     "base_uri": "https://localhost:8080/"
    },
    "id": "cIB1N5W8Wmp8",
    "outputId": "a2da60b7-6052-47de-d377-afff259801fe"
   },
   "outputs": [
    {
     "data": {
      "text/plain": [
       "0         Продаю свою авоську, автомобиль полностью обсл...\n",
       "1         Авто в идеальном состоянии, по техническому со...\n",
       "2         Авто в отличном тех состоянии, установлено ГБО...\n",
       "3         Продам Volkswagen passat b6 в хорошем состояни...\n",
       "4         ПТС таможенный, за все время один собственник!...\n",
       "                                ...                        \n",
       "147432    Продается BMW 316i в отличном состоянии. Прода...\n",
       "147433                       Продаётся отличный автомобиль.\n",
       "147434                                    Хорошее состояние\n",
       "147435    Автомобиль в идеальном состоянии . Куплен новы...\n",
       "147436     Пробег реальный, состояние отличное! Авторска...\n",
       "Name: description, Length: 146296, dtype: object"
      ]
     },
     "execution_count": 38,
     "metadata": {},
     "output_type": "execute_result"
    }
   ],
   "source": [
    "data.description"
   ]
  },
  {
   "cell_type": "markdown",
   "metadata": {
    "id": "SpHplP1kdFhD"
   },
   "source": [
    "Это описание автомобиля, сделанное владельцем.\n",
    "Есть как минимум 2 пути - векторизовать признак или простой - создать на его основе признак description_len, содержащий длинну текста (исходим из предположения, что чем подробнее описание, тем большую стоимость продавец хочет выручить, а значит должна быть зависимость)."
   ]
  },
  {
   "cell_type": "code",
   "execution_count": 39,
   "metadata": {
    "id": "vGyg_x6FdDw5"
   },
   "outputs": [],
   "source": [
    "#  Создадим новый числовой признак\n",
    "data['description_len'] = data['description'].apply(lambda x: len(str(x)))"
   ]
  },
  {
   "cell_type": "code",
   "execution_count": 40,
   "metadata": {
    "id": "SAZ76svjkJez"
   },
   "outputs": [],
   "source": [
    "# удаляем\n",
    "data.drop(['description'], axis=1, inplace=True)"
   ]
  },
  {
   "cell_type": "code",
   "execution_count": 41,
   "metadata": {
    "colab": {
     "base_uri": "https://localhost:8080/"
    },
    "id": "nj0kEeG2n5pP",
    "outputId": "fb14e74c-9789-483d-ff4d-99782972eef2"
   },
   "outputs": [
    {
     "data": {
      "text/plain": [
       "count    146296.000000\n",
       "mean        611.271990\n",
       "std         748.317263\n",
       "min           1.000000\n",
       "25%         149.000000\n",
       "50%         336.000000\n",
       "75%         811.000000\n",
       "max       29938.000000\n",
       "Name: description_len, dtype: float64"
      ]
     },
     "execution_count": 41,
     "metadata": {},
     "output_type": "execute_result"
    }
   ],
   "source": [
    "# посмотрим на новый признак\n",
    "data.description_len.describe()"
   ]
  },
  {
   "cell_type": "markdown",
   "metadata": {
    "id": "q05pYK9OoFTg"
   },
   "source": [
    "Очевидно, что поля с описанием содержали аномальные значения - минимальная длина текста 1, масимальная почти 3 тысячи. Это очевидные ошибки"
   ]
  },
  {
   "cell_type": "code",
   "execution_count": 42,
   "metadata": {
    "colab": {
     "base_uri": "https://localhost:8080/"
    },
    "id": "ewnbIr1nrlR2",
    "outputId": "003b58a3-b6ba-4685-c227-a258476a0bf8"
   },
   "outputs": [
    {
     "data": {
      "text/plain": [
       "1        134\n",
       "2         12\n",
       "3         63\n",
       "4         96\n",
       "5         73\n",
       "        ... \n",
       "12911      1\n",
       "13320      1\n",
       "17468      1\n",
       "28789      1\n",
       "29938      1\n",
       "Name: description_len, Length: 4364, dtype: int64"
      ]
     },
     "execution_count": 42,
     "metadata": {},
     "output_type": "execute_result"
    }
   ],
   "source": [
    "data.description_len.value_counts().sort_index()"
   ]
  },
  {
   "cell_type": "markdown",
   "metadata": {
    "id": "yeH3XeoE0xSO"
   },
   "source": [
    "За образец возьмем тестовый датафрейм"
   ]
  },
  {
   "cell_type": "code",
   "execution_count": 43,
   "metadata": {},
   "outputs": [],
   "source": [
    "mn = data[data['sample'] == 0]['description_len'].min()\n",
    "mx = data[data['sample'] == 0]['description_len'].max()\n",
    "data = data.query('description_len >= @mn & description_len <= @mx').reset_index(drop=True)"
   ]
  },
  {
   "cell_type": "markdown",
   "metadata": {
    "id": "Aoiex2IykZJX"
   },
   "source": [
    "Мы создали этот признак из описания - он должен отражать длинну текста описания.\n",
    "Возможно текст не везде был адекватный, в таком случае в этом признаке мы увидим аномалии распределения"
   ]
  },
  {
   "cell_type": "code",
   "execution_count": 44,
   "metadata": {
    "colab": {
     "base_uri": "https://localhost:8080/",
     "height": 335
    },
    "id": "uexbnD--jPg4",
    "outputId": "0ca5ae57-9674-409a-c583-f14967e832f4"
   },
   "outputs": [
    {
     "data": {
      "image/png": "[encoded data removed]",
      "text/plain": [
       "<Figure size 720x360 with 1 Axes>"
      ]
     },
     "metadata": {
      "needs_background": "light"
     },
     "output_type": "display_data"
    }
   ],
   "source": [
    "plt.figure(figsize=(10, 5))\n",
    "sns.histplot(data=data['description_len'], bins=100); #, log_scale=True"
   ]
  },
  {
   "cell_type": "markdown",
   "metadata": {
    "id": "koTYfvpolof0"
   },
   "source": [
    "Видим, что есть выбросы"
   ]
  },
  {
   "cell_type": "code",
   "execution_count": 45,
   "metadata": {
    "colab": {
     "base_uri": "https://localhost:8080/",
     "height": 381
    },
    "id": "CKV9sTJjjiJw",
    "outputId": "30de8c0b-934f-43f2-af29-71c070b12f8f"
   },
   "outputs": [
    {
     "data": {
      "image/png": "[encoded data removed]",
      "text/plain": [
       "<Figure size 576x360 with 1 Axes>"
      ]
     },
     "metadata": {
      "needs_background": "light"
     },
     "output_type": "display_data"
    }
   ],
   "source": [
    "interquartile_range(data['description_len'], bins=50)"
   ]
  },
  {
   "cell_type": "code",
   "execution_count": 46,
   "metadata": {
    "id": "6Rtd9CUXjyJm"
   },
   "outputs": [],
   "source": [
    "# обработаем выбросы\n",
    "\n",
    "q_1 = np.quantile(data['description_len'], 0.25) \n",
    "q_3 = np.quantile(data['description_len'], 0.75) \n",
    "IQR = q_3 - q_1\n",
    "low = q_1 - IQR * 1.5 \n",
    "high = q_3 + IQR * 1.5\n",
    "data['description_len'] = data['description_len'].map(lambda x: replace_outliers(x, low, high))"
   ]
  },
  {
   "cell_type": "code",
   "execution_count": 47,
   "metadata": {
    "colab": {
     "base_uri": "https://localhost:8080/",
     "height": 297
    },
    "id": "cjq0jxeem2Fv",
    "outputId": "10b3513f-b63f-44cc-83f4-0dafb6fd69d4"
   },
   "outputs": [
    {
     "data": {
      "image/png": "[encoded data removed]",
      "text/plain": [
       "<Figure size 576x288 with 1 Axes>"
      ]
     },
     "metadata": {
      "needs_background": "light"
     },
     "output_type": "display_data"
    }
   ],
   "source": [
    "# логарифмируем\n",
    "data['description_len'] = data['description_len'].apply(lambda w: np.log(w + 1))\n",
    "sns.displot(data=data, x=\"description_len\", height=4, aspect=2);"
   ]
  },
  {
   "cell_type": "markdown",
   "metadata": {
    "id": "Yi-6pGp4X_Wy"
   },
   "source": [
    "### engineDisplacement"
   ]
  },
  {
   "cell_type": "code",
   "execution_count": 48,
   "metadata": {
    "colab": {
     "base_uri": "https://localhost:8080/",
     "height": 730
    },
    "id": "ipnmgOC-YCkh",
    "outputId": "d815e510-4032-4e3a-f402-073a5859e5e6"
   },
   "outputs": [
    {
     "data": {
      "image/png": "[encoded data removed]",
      "text/plain": [
       "<Figure size 576x864 with 1 Axes>"
      ]
     },
     "metadata": {
      "needs_background": "light"
     },
     "output_type": "display_data"
    }
   ],
   "source": [
    "getCountPlot(data,'engineDisplacement',8,12)"
   ]
  },
  {
   "cell_type": "markdown",
   "metadata": {
    "id": "63Bgx2emcohb"
   },
   "source": [
    "Есть значение признака без указания объёма двигателя:"
   ]
  },
  {
   "cell_type": "code",
   "execution_count": 49,
   "metadata": {},
   "outputs": [
    {
     "data": {
      "text/plain": [
       "brand       model_name        fuelType\n",
       "AUDI        E_TRON            электро      13\n",
       "            E_TRON_GT         электро       1\n",
       "            E_TRON_S          электро       1\n",
       "            E_TRON_SPORTBACK  электро       1\n",
       "            RS_E_TRON_GT      электро       2\n",
       "BMW         I3                электро      55\n",
       "MERCEDES    B_KLASSE          электро       3\n",
       "            EQC               электро       6\n",
       "            EQV               электро       5\n",
       "MITSUBISHI  I_MIEV            электро      11\n",
       "            MINICAB           электро       6\n",
       "NISSAN      BLUEBIRD_SYLPHY   электро       1\n",
       "            LEAF              электро     409\n",
       "            NV200             электро       4\n",
       "TOYOTA      COMS              электро       1\n",
       "            RAV_4             электро       2\n",
       "VOLKSWAGEN  GOLF              электро       9\n",
       "Name: sell_id, dtype: int64"
      ]
     },
     "execution_count": 49,
     "metadata": {},
     "output_type": "execute_result"
    }
   ],
   "source": [
    "data[data['engineDisplacement']==' LTR'].groupby(['brand',\n",
    "                                                  'model_name',\n",
    "                                                  'fuelType'])['sell_id'].count()"
   ]
  },
  {
   "cell_type": "markdown",
   "metadata": {
    "id": "8nlnEUbIdJ1p"
   },
   "source": [
    "Это электромобили"
   ]
  },
  {
   "cell_type": "code",
   "execution_count": 50,
   "metadata": {
    "id": "7N4V8mmvdu9z"
   },
   "outputs": [],
   "source": [
    "# очистим признак от ненужных букв и заменим пустые значения в электрокарах на 0\n",
    "\n",
    "data['engineDisplacement'] = data['engineDisplacement'].apply(lambda x: 0 if x==' LTR' else x)\n",
    "data['engineDisplacement'] = data['engineDisplacement'].astype(str).apply(lambda x: x.split()[0])\n",
    "data['engineDisplacement'] = data['engineDisplacement'].astype(float)"
   ]
  },
  {
   "cell_type": "markdown",
   "metadata": {
    "id": "qgUq6qbheHHe"
   },
   "source": [
    "### enginePower"
   ]
  },
  {
   "cell_type": "code",
   "execution_count": 51,
   "metadata": {
    "colab": {
     "base_uri": "https://localhost:8080/"
    },
    "id": "QR6Wgi5Teo5v",
    "outputId": "fc63975c-29bb-4a63-c4ed-d391d4712ab8"
   },
   "outputs": [
    {
     "data": {
      "text/plain": [
       "array(['290 N12', '173 N12', '309 N12', '150 N12', '133 N12', '100 N12',\n",
       "       '174 N12', '200 N12', '144 N12', '148 N12', '249 N12', '241 N12',\n",
       "       '235 N12', '181 N12', '282 N12', '140 N12', '277 N12', '91 N12',\n",
       "       '145 N12', '273 N12', '146 N12', '80 N12', '102 N12', '280 N12',\n",
       "       '224 N12', '450 N12', '105 N12', '116 N12', '275 N12', '381 N12',\n",
       "       '163 N12', '335 N12', '147 N12', '270 N12', '170 N12', '250 N12',\n",
       "       '130 N12', '136 N12', '99 N12', '152 N12', '313 N12', '124 N12',\n",
       "       '125 N12', '178 N12', '132 N12', '272 N12', '310 N12', '255 N12',\n",
       "       '110 N12', '69 N12', '177 N12', '109 N12', '103 N12', '115 N12',\n",
       "       '231 N12', '90 N12', '388 N12', '204 N12', '122 N12', '340 N12',\n",
       "       '500 N12', '510 N12', '612 N12', '208 N12', '276 N12', '118 N12',\n",
       "       '211 N12', '525 N12', '190 N12', '296 N12', '517 N12', '95 N12',\n",
       "       '184 N12', '143 N12', '179 N12', '64 N12', '187 N12', '380 N12',\n",
       "       '182 N12', '101 N12', '75 N12', '263 N12', '234 N12', '367 N12',\n",
       "       '394 N12', '74 N12', '155 N12', '149 N12', '158 N12', '160 N12',\n",
       "       '86 N12', '247 N12', '185 N12', '295 N12', '167 N12', '180 N12',\n",
       "       '71 N12', '129 N12', '79 N12', '97 N12', '87 N12', '188 N12',\n",
       "       '85 N12', '93 N12', '126 N12', '350 N12', '218 N12', '260 N12',\n",
       "       '326 N12', '266 N12', '233 N12', '210 N12', '83 N12', '67 N12',\n",
       "       '165 N12', '300 N12', '315 N12', '107 N12', '154 N12', '141 N12',\n",
       "       '169 N12', '209 N12', '117 N12', '65 N12', '225 N12', '82 N12',\n",
       "       '49 N12', '227 N12', '58 N12', '193 N12', '245 N12', '106 N12',\n",
       "       '114 N12', '54 N12', '135 N12', '121 N12', '88 N12', '355 N12',\n",
       "       '258 N12', '222 N12', '120 N12', '156 N12', '230 N12', '189 N12',\n",
       "       '288 N12', '76 N12', '382 N12', '306 N12', '92 N12', '137 N12',\n",
       "       '215 N12', '328 N12', '325 N12', '203 N12', '240 N12', '220 N12',\n",
       "       '112 N12', '98 N12', '305 N12', '269 N12', '73 N12', '108 N12',\n",
       "       '197 N12', '151 N12', '131 N12', '476 N12', '271 N12', '279 N12',\n",
       "       '239 N12', '202 N12', '94 N12', '205 N12', '201 N12', '318 N12',\n",
       "       '153 N12', '265 N12', '445 N12', '264 N12', '320 N12', '360 N12',\n",
       "       '507 N12', '236 N12', '162 N12', '555 N12', '575 N12', '514 N12',\n",
       "       '192 N12', '302 N12', '248 N12', '400 N12', '70 N12', '252 N12',\n",
       "       '238 N12', '423 N12', '383 N12', '407 N12', '560 N12', '286 N12',\n",
       "       '420 N12', '307 N12', '431 N12', '283 N12', '128 N12', '530 N12',\n",
       "       '625 N12', '609 N12', '223 N12', '134 N12', '175 N12', '387 N12',\n",
       "       '60 N12', '600 N12', '139 N12', '243 N12', '41 N12', '462 N12',\n",
       "       '68 N12', '344 N12', '127 N12', '410 N12', '460 N12', '370 N12',\n",
       "       '610 N12', '333 N12', '385 N12', '435 N12', '354 N12', '605 N12',\n",
       "       '61 N12', '212 N12', '159 N12', '183 N12', '186 N12', '142 N12',\n",
       "       '408 N12', '157 N12', '422 N12', '284 N12', '347 N12', '292 N12',\n",
       "       '372 N12', '256 N12', '213 N12', '199 N12', '520 N12', '303 N12',\n",
       "       '329 N12', '254 N12', '228 N12', '232 N12', '77 N12', '166 N12',\n",
       "       '206 N12', '415 N12', '219 N12', '544 N12', '221 N12', '405 N12',\n",
       "       '262 N12', '304 N12', '330 N12', '194 N12', '171 N12', '558 N12',\n",
       "       '540 N12', '84 N12', '390 N12', '168 N12', '485 N12', '172 N12',\n",
       "       '50 N12', '457 N12', '316 N12', '257 N12', '111 N12', '53 N12',\n",
       "       '38 N12', '46 N12', '51 N12', '55 N12', '44 N12', '469 N12',\n",
       "       '585 N12', '455 N12', '571 N12', '401 N12', '113 N12', '195 N12',\n",
       "       '57 N12', '242 N12', '72 N12', '96 N12', '557 N12', '456 N12',\n",
       "       '487 N12', '421 N12', '294 N12', '66 N12', '285 N12', '321 N12',\n",
       "       '78 N12', '48 N12', '52 N12', '268 N12', '226 N12', '42 N12',\n",
       "       '63 N12', '161 N12', '104 N12', '214 N12', '580 N12', '639 N12',\n",
       "       '646 N12', '503 N12', '138 N12', '299 N12', '522 N12', '36 N12',\n",
       "       '591 N12', '537 N12', '402 N12', '278 N12', '550 N12', '650 N12',\n",
       "       '317 N12', '336 N12', '89 N12', '34 N12', '481 N12', '7 N12',\n",
       "       '324 N12', '176 N12', '47 N12', '480 N12', '45 N12', '40 N12',\n",
       "       '635 N12', '281 N12', '489 N12', '196 N12', '343 N12', '19 N12',\n",
       "       '630 N12', '198 N12', '30 N12', '430 N12', '338 N12', '626 N12',\n",
       "       '32 N12', '164 N12', '301 N12'], dtype=object)"
      ]
     },
     "execution_count": 51,
     "metadata": {},
     "output_type": "execute_result"
    }
   ],
   "source": [
    "data['enginePower'].unique()"
   ]
  },
  {
   "cell_type": "code",
   "execution_count": 52,
   "metadata": {
    "id": "oh3IWXaNe9xp"
   },
   "outputs": [],
   "source": [
    "# очистим\n",
    "data['enginePower'] = data['enginePower'].str.replace(' N12', '')\n",
    "data['enginePower'] = data['enginePower'].astype(int)"
   ]
  },
  {
   "cell_type": "code",
   "execution_count": 53,
   "metadata": {
    "colab": {
     "base_uri": "https://localhost:8080/"
    },
    "id": "PL8ARuoufKfh",
    "outputId": "de203b28-6c31-4aee-8edb-e0acad52ca9c"
   },
   "outputs": [
    {
     "data": {
      "text/plain": [
       "count    146295.000000\n",
       "mean        176.604361\n",
       "std          84.509064\n",
       "min           7.000000\n",
       "25%         116.000000\n",
       "50%         152.000000\n",
       "75%         211.000000\n",
       "max         650.000000\n",
       "Name: enginePower, dtype: float64"
      ]
     },
     "execution_count": 53,
     "metadata": {},
     "output_type": "execute_result"
    }
   ],
   "source": [
    "data['enginePower'].describe()"
   ]
  },
  {
   "cell_type": "markdown",
   "metadata": {
    "id": "97lz9SoPjA9p"
   },
   "source": [
    "### fuelType"
   ]
  },
  {
   "cell_type": "code",
   "execution_count": 54,
   "metadata": {
    "colab": {
     "base_uri": "https://localhost:8080/",
     "height": 350
    },
    "id": "hedhSFx1jF_K",
    "outputId": "0e069b5c-ad60-47ac-cec8-1e2a8cb1a366"
   },
   "outputs": [
    {
     "data": {
      "image/png": "[encoded data removed]",
      "text/plain": [
       "<Figure size 576x360 with 1 Axes>"
      ]
     },
     "metadata": {
      "needs_background": "light"
     },
     "output_type": "display_data"
    }
   ],
   "source": [
    "getCountPlot(data,'fuelType')"
   ]
  },
  {
   "cell_type": "markdown",
   "metadata": {
    "id": "OBTYmr6ajxpR"
   },
   "source": [
    "### modelDate"
   ]
  },
  {
   "cell_type": "code",
   "execution_count": 55,
   "metadata": {
    "colab": {
     "base_uri": "https://localhost:8080/",
     "height": 334
    },
    "id": "A2EJBtIqlLoS",
    "outputId": "9167d2b2-510e-494b-cb7b-d6712621be15"
   },
   "outputs": [
    {
     "data": {
      "image/png": "[encoded data removed]",
      "text/plain": [
       "<Figure size 720x360 with 1 Axes>"
      ]
     },
     "metadata": {
      "needs_background": "light"
     },
     "output_type": "display_data"
    }
   ],
   "source": [
    "plt.figure(figsize=(10, 5))\n",
    "sns.histplot(data=data, x=\"modelDate\");"
   ]
  },
  {
   "cell_type": "markdown",
   "metadata": {
    "id": "i7_vq97omEbT"
   },
   "source": [
    "Больше всего в продаже 10-летних моделей"
   ]
  },
  {
   "cell_type": "markdown",
   "metadata": {
    "id": "S33VcgdtuGAb"
   },
   "source": [
    "### numberOfDoors"
   ]
  },
  {
   "cell_type": "code",
   "execution_count": 56,
   "metadata": {
    "colab": {
     "base_uri": "https://localhost:8080/",
     "height": 350
    },
    "id": "IjHLqghnuIGa",
    "outputId": "346d2fd8-a7e0-48de-e129-9f88eebe28e0"
   },
   "outputs": [
    {
     "data": {
      "image/png": "[encoded data removed]",
      "text/plain": [
       "<Figure size 576x360 with 1 Axes>"
      ]
     },
     "metadata": {
      "needs_background": "light"
     },
     "output_type": "display_data"
    }
   ],
   "source": [
    "getCountPlot(data,'numberOfDoors')"
   ]
  },
  {
   "cell_type": "markdown",
   "metadata": {
    "id": "grba4dRcucXG"
   },
   "source": [
    "у одного автомобиля указано 0 дверей"
   ]
  },
  {
   "cell_type": "code",
   "execution_count": 57,
   "metadata": {
    "colab": {
     "base_uri": "https://localhost:8080/",
     "height": 151
    },
    "id": "grtkUUceuga3",
    "outputId": "5a282c03-149f-453a-ca33-66e870dd86ac"
   },
   "outputs": [
    {
     "data": {
      "text/html": [
       "<div>\n",
       "<style scoped>\n",
       "    .dataframe tbody tr th:only-of-type {\n",
       "        vertical-align: middle;\n",
       "    }\n",
       "\n",
       "    .dataframe tbody tr th {\n",
       "        vertical-align: top;\n",
       "    }\n",
       "\n",
       "    .dataframe thead th {\n",
       "        text-align: right;\n",
       "    }\n",
       "</style>\n",
       "<table border=\"1\" class=\"dataframe\">\n",
       "  <thead>\n",
       "    <tr style=\"text-align: right;\">\n",
       "      <th></th>\n",
       "      <th>bodyType</th>\n",
       "      <th>brand</th>\n",
       "      <th>car_url</th>\n",
       "      <th>color</th>\n",
       "      <th>engineDisplacement</th>\n",
       "      <th>enginePower</th>\n",
       "      <th>fuelType</th>\n",
       "      <th>mileage</th>\n",
       "      <th>modelDate</th>\n",
       "      <th>model_name</th>\n",
       "      <th>...</th>\n",
       "      <th>vehicleTransmission</th>\n",
       "      <th>vendor</th>\n",
       "      <th>Владельцы</th>\n",
       "      <th>ПТС</th>\n",
       "      <th>Привод</th>\n",
       "      <th>Руль</th>\n",
       "      <th>Состояние</th>\n",
       "      <th>price</th>\n",
       "      <th>sample</th>\n",
       "      <th>description_len</th>\n",
       "    </tr>\n",
       "  </thead>\n",
       "  <tbody>\n",
       "    <tr>\n",
       "      <th>128553</th>\n",
       "      <td>кабриолет</td>\n",
       "      <td>MERCEDES</td>\n",
       "      <td>https://auto.ru/cars/used/sale/mercedes/simple...</td>\n",
       "      <td>белый</td>\n",
       "      <td>5.3</td>\n",
       "      <td>32</td>\n",
       "      <td>бензин</td>\n",
       "      <td>48000</td>\n",
       "      <td>1904</td>\n",
       "      <td>SIMPLEX</td>\n",
       "      <td>...</td>\n",
       "      <td>механическая</td>\n",
       "      <td>EUROPEAN</td>\n",
       "      <td>1 владелец</td>\n",
       "      <td>Оригинал</td>\n",
       "      <td>задний</td>\n",
       "      <td>Правый</td>\n",
       "      <td>Не требует ремонта</td>\n",
       "      <td>NaN</td>\n",
       "      <td>0</td>\n",
       "      <td>6.666957</td>\n",
       "    </tr>\n",
       "  </tbody>\n",
       "</table>\n",
       "<p>1 rows × 27 columns</p>\n",
       "</div>"
      ],
      "text/plain": [
       "         bodyType     brand  \\\n",
       "128553  кабриолет  MERCEDES   \n",
       "\n",
       "                                                  car_url  color  \\\n",
       "128553  https://auto.ru/cars/used/sale/mercedes/simple...  белый   \n",
       "\n",
       "        engineDisplacement  enginePower fuelType  mileage  modelDate  \\\n",
       "128553                 5.3           32   бензин    48000       1904   \n",
       "\n",
       "       model_name  ... vehicleTransmission    vendor   Владельцы       ПТС  \\\n",
       "128553    SIMPLEX  ...        механическая  EUROPEAN  1 владелец  Оригинал   \n",
       "\n",
       "        Привод    Руль           Состояние price sample description_len  \n",
       "128553  задний  Правый  Не требует ремонта   NaN      0        6.666957  \n",
       "\n",
       "[1 rows x 27 columns]"
      ]
     },
     "execution_count": 57,
     "metadata": {},
     "output_type": "execute_result"
    }
   ],
   "source": [
    "data[data['numberOfDoors'] == 0]"
   ]
  },
  {
   "cell_type": "markdown",
   "metadata": {
    "id": "1wwIzMRou3PN"
   },
   "source": [
    "![image.png](data:image/png;base64,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)"
   ]
  },
  {
   "cell_type": "markdown",
   "metadata": {
    "id": "zvzoD7uIvCN4"
   },
   "source": [
    "Вот такой, действительно - без окон, без дверей."
   ]
  },
  {
   "cell_type": "markdown",
   "metadata": {
    "id": "aDAVN-MiqTk_"
   },
   "source": [
    "### productionDate"
   ]
  },
  {
   "cell_type": "code",
   "execution_count": 58,
   "metadata": {
    "colab": {
     "base_uri": "https://localhost:8080/",
     "height": 334
    },
    "id": "z1tUIuTBqaUg",
    "outputId": "876ca68e-cb6c-4c6d-c743-e128aa1f1bd2"
   },
   "outputs": [
    {
     "data": {
      "image/png": "[encoded data removed]",
      "text/plain": [
       "<Figure size 720x360 with 1 Axes>"
      ]
     },
     "metadata": {
      "needs_background": "light"
     },
     "output_type": "display_data"
    }
   ],
   "source": [
    "plt.figure(figsize=(10, 5))\n",
    "sns.histplot(data=data, x=\"productionDate\");"
   ]
  },
  {
   "cell_type": "markdown",
   "metadata": {
    "id": "HEUqR-xZqike"
   },
   "source": [
    "Почти копия modelDate\n",
    "\n",
    "Вероятно будут сильно коррелировать - под наблюдение"
   ]
  },
  {
   "cell_type": "markdown",
   "metadata": {
    "id": "ShxbQfpLxiTY"
   },
   "source": [
    "### vehicleTransmission"
   ]
  },
  {
   "cell_type": "code",
   "execution_count": 59,
   "metadata": {
    "colab": {
     "base_uri": "https://localhost:8080/",
     "height": 350
    },
    "id": "9YlAUGpixs9S",
    "outputId": "57d90e2f-8358-460e-8a69-f459324802fa"
   },
   "outputs": [
    {
     "data": {
      "image/png": "[encoded data removed]",
      "text/plain": [
       "<Figure size 576x360 with 1 Axes>"
      ]
     },
     "metadata": {
      "needs_background": "light"
     },
     "output_type": "display_data"
    }
   ],
   "source": [
    "getCountPlot(data,'vehicleTransmission')"
   ]
  },
  {
   "cell_type": "markdown",
   "metadata": {
    "id": "4xPqLrYjA5J4"
   },
   "source": [
    "### super_gen - удалить"
   ]
  },
  {
   "cell_type": "code",
   "execution_count": 60,
   "metadata": {
    "colab": {
     "base_uri": "https://localhost:8080/"
    },
    "id": "LifpMYGVA8h9",
    "outputId": "76243aa0-bc30-4f2c-804e-163480562a20"
   },
   "outputs": [
    {
     "data": {
      "text/plain": [
       "16813"
      ]
     },
     "execution_count": 60,
     "metadata": {},
     "output_type": "execute_result"
    }
   ],
   "source": [
    "# Очень много уникальных наименований\n",
    "data['super_gen'].nunique()"
   ]
  },
  {
   "cell_type": "code",
   "execution_count": 61,
   "metadata": {
    "colab": {
     "base_uri": "https://localhost:8080/"
    },
    "id": "l2sglRN9BGlX",
    "outputId": "af3822a1-6799-4328-c142-6f633a0ac971"
   },
   "outputs": [
    {
     "data": {
      "text/plain": [
       "{'id': '6214876', 'displacement': 1598, 'engine_type': 'GASOLINE', 'gear_type': 'FORWARD_CONTROL', 'transmission': 'MECHANICAL', 'power': 105, 'power_kvt': 77, 'human_name': '1.6 MT (105 л.с.)', 'acceleration': 10.5, 'clearance_min': 170, 'fuel_rate': 6.5}    683\n",
       "{'id': '20726520', 'displacement': 1598, 'engine_type': 'GASOLINE', 'gear_type': 'FORWARD_CONTROL', 'transmission': 'AUTOMATIC', 'power': 110, 'power_kvt': 81, 'human_name': '1.6 AT (110 л.с.)', 'acceleration': 11.7, 'clearance_min': 163, 'fuel_rate': 5.9}    665\n",
       "Name: super_gen, dtype: int64"
      ]
     },
     "execution_count": 61,
     "metadata": {},
     "output_type": "execute_result"
    }
   ],
   "source": [
    "# посмотрим на состав\n",
    "data['super_gen'].value_counts()[:2]"
   ]
  },
  {
   "cell_type": "markdown",
   "metadata": {
    "id": "W4yW-98JB6HO"
   },
   "source": [
    "Строки содержат как минимум 3 интересных количественных признака:\n",
    "\n",
    "* acceleration\n",
    "* clearance_min\n",
    "* fuel_rate"
   ]
  },
  {
   "cell_type": "markdown",
   "metadata": {
    "id": "nZzWI3H2CeiK"
   },
   "source": [
    "Возможно стоит попробовать их извлечь, пока удалим."
   ]
  },
  {
   "cell_type": "code",
   "execution_count": 62,
   "metadata": {
    "id": "Dm3R6YPg-R-0"
   },
   "outputs": [],
   "source": [
    "data.drop(['super_gen'], axis=1, inplace=True)"
   ]
  },
  {
   "cell_type": "markdown",
   "metadata": {
    "id": "3GJLOjSgRb67"
   },
   "source": [
    "### vendor"
   ]
  },
  {
   "cell_type": "code",
   "execution_count": 63,
   "metadata": {
    "colab": {
     "base_uri": "https://localhost:8080/",
     "height": 350
    },
    "id": "y2WiPhUMRbea",
    "outputId": "9491b8b0-a6fc-4f4b-dabb-22df81bbeb1e"
   },
   "outputs": [
    {
     "data": {
      "image/png": "[encoded data removed]",
      "text/plain": [
       "<Figure size 576x360 with 1 Axes>"
      ]
     },
     "metadata": {
      "needs_background": "light"
     },
     "output_type": "display_data"
    }
   ],
   "source": [
    "getCountPlot(data,'vendor')"
   ]
  },
  {
   "cell_type": "markdown",
   "metadata": {
    "id": "urkSThQNTH4T"
   },
   "source": [
    "Очень мало автомобилей с америаканского рынка"
   ]
  },
  {
   "cell_type": "markdown",
   "metadata": {
    "id": "hDPIZBVrS5PU"
   },
   "source": [
    "### Владельцы"
   ]
  },
  {
   "cell_type": "code",
   "execution_count": 64,
   "metadata": {
    "colab": {
     "base_uri": "https://localhost:8080/",
     "height": 350
    },
    "id": "NiyUxj5fS3mL",
    "outputId": "232f86ca-05a9-4cf5-d7fa-3772a4737399"
   },
   "outputs": [
    {
     "data": {
      "image/png": "[encoded data removed]",
      "text/plain": [
       "<Figure size 576x360 with 1 Axes>"
      ]
     },
     "metadata": {
      "needs_background": "light"
     },
     "output_type": "display_data"
    }
   ],
   "source": [
    "getCountPlot(data,'Владельцы')"
   ]
  },
  {
   "cell_type": "markdown",
   "metadata": {
    "id": "EyJjcZXWTmsQ"
   },
   "source": [
    "### Привод"
   ]
  },
  {
   "cell_type": "code",
   "execution_count": 65,
   "metadata": {
    "colab": {
     "base_uri": "https://localhost:8080/",
     "height": 350
    },
    "id": "Hpqzmw7qTomj",
    "outputId": "6035a755-8d78-459b-94aa-46fa2aeae1e1"
   },
   "outputs": [
    {
     "data": {
      "image/png": "[encoded data removed]",
      "text/plain": [
       "<Figure size 576x360 with 1 Axes>"
      ]
     },
     "metadata": {
      "needs_background": "light"
     },
     "output_type": "display_data"
    }
   ],
   "source": [
    "getCountPlot(data,'Привод')"
   ]
  },
  {
   "cell_type": "markdown",
   "metadata": {
    "id": "x56brbsfTUUj"
   },
   "source": [
    "### ПТС"
   ]
  },
  {
   "cell_type": "code",
   "execution_count": 66,
   "metadata": {
    "colab": {
     "base_uri": "https://localhost:8080/",
     "height": 350
    },
    "id": "j8Bm-U8dTYMT",
    "outputId": "5323b607-5962-4693-f07a-6dc477218b84"
   },
   "outputs": [
    {
     "data": {
      "image/png": "[encoded data removed]",
      "text/plain": [
       "<Figure size 576x360 with 1 Axes>"
      ]
     },
     "metadata": {
      "needs_background": "light"
     },
     "output_type": "display_data"
    }
   ],
   "source": [
    "getCountPlot(data,'ПТС')"
   ]
  },
  {
   "cell_type": "markdown",
   "metadata": {
    "id": "vu42hpWZTxxY"
   },
   "source": [
    "### Руль"
   ]
  },
  {
   "cell_type": "code",
   "execution_count": 67,
   "metadata": {
    "colab": {
     "base_uri": "https://localhost:8080/",
     "height": 350
    },
    "id": "wUFTb02kS1qq",
    "outputId": "7301ab78-16de-420a-9dca-86cbd185ebb1"
   },
   "outputs": [
    {
     "data": {
      "image/png": "[encoded data removed]",
      "text/plain": [
       "<Figure size 576x360 with 1 Axes>"
      ]
     },
     "metadata": {
      "needs_background": "light"
     },
     "output_type": "display_data"
    }
   ],
   "source": [
    "getCountPlot(data,'Руль')"
   ]
  },
  {
   "cell_type": "markdown",
   "metadata": {
    "id": "ILz2WwecT78v"
   },
   "source": [
    "### Состояние"
   ]
  },
  {
   "cell_type": "code",
   "execution_count": 68,
   "metadata": {
    "colab": {
     "base_uri": "https://localhost:8080/",
     "height": 350
    },
    "id": "Bbf0zxs7T-A4",
    "outputId": "7700116e-80d0-47e0-f8b5-f910e9268b65"
   },
   "outputs": [
    {
     "data": {
      "image/png": "[encoded data removed]",
      "text/plain": [
       "<Figure size 576x360 with 1 Axes>"
      ]
     },
     "metadata": {
      "needs_background": "light"
     },
     "output_type": "display_data"
    }
   ],
   "source": [
    "getCountPlot(data,'Состояние')"
   ]
  },
  {
   "cell_type": "markdown",
   "metadata": {
    "id": "7RM7Wck2UEZU"
   },
   "source": [
    "Крайне незначительное количество автомобилей, требующих ремонта"
   ]
  },
  {
   "cell_type": "markdown",
   "metadata": {
    "id": "amDvjKHd0eqX"
   },
   "source": [
    "### mileage"
   ]
  },
  {
   "cell_type": "code",
   "execution_count": 69,
   "metadata": {
    "colab": {
     "base_uri": "https://localhost:8080/",
     "height": 336
    },
    "id": "c8c-XKfL0doI",
    "outputId": "55ec9265-7a8f-40b5-c44e-40c63c67bd84"
   },
   "outputs": [
    {
     "data": {
      "image/png": "[encoded data removed]",
      "text/plain": [
       "<Figure size 720x360 with 1 Axes>"
      ]
     },
     "metadata": {
      "needs_background": "light"
     },
     "output_type": "display_data"
    }
   ],
   "source": [
    "plt.figure(figsize=(10, 5))\n",
    "sns.histplot(data=data['mileage'], bins=50);"
   ]
  },
  {
   "cell_type": "markdown",
   "metadata": {
    "id": "IKfu8ijN4ws5"
   },
   "source": [
    "Есть автомобили с пробегом под 1 млн. километров. Посмотрим на них"
   ]
  },
  {
   "cell_type": "code",
   "execution_count": 70,
   "metadata": {},
   "outputs": [
    {
     "data": {
      "text/plain": [
       "brand       mileage  Состояние         \n",
       "AUDI        1000000  Не требует ремонта    3\n",
       "BMW         1000000  Не требует ремонта    5\n",
       "                     Требует ремонта       1\n",
       "HONDA       1000000  Не требует ремонта    1\n",
       "MERCEDES    1000000  Не требует ремонта    5\n",
       "                     Требует ремонта       1\n",
       "MITSUBISHI  1000000  Не требует ремонта    1\n",
       "NISSAN      1000000  Не требует ремонта    3\n",
       "                     Требует ремонта       1\n",
       "TOYOTA      1000000  Не требует ремонта    7\n",
       "                     Требует ремонта       2\n",
       "VOLKSWAGEN  1000000  Не требует ремонта    6\n",
       "                     Требует ремонта       1\n",
       "VOLVO       1000000  Не требует ремонта    1\n",
       "Name: sell_id, dtype: int64"
      ]
     },
     "execution_count": 70,
     "metadata": {},
     "output_type": "execute_result"
    }
   ],
   "source": [
    "data[data['mileage']>999999].groupby(['brand', 'mileage','Состояние'])['sell_id'].count()"
   ]
  },
  {
   "cell_type": "markdown",
   "metadata": {
    "id": "2jevsKZA86TM"
   },
   "source": [
    "Удивительно, конечно, что автомобиль с пробегом 1 млн килорметров \"не требует ремонта\", но проверка показала, что именно так и указано в объявлении, при том, что в описании часто перечислены значительные неисправности... "
   ]
  },
  {
   "cell_type": "markdown",
   "metadata": {
    "id": "r8AGa9YO9jSp"
   },
   "source": [
    "И хотя пробег возможно и реальный, но лучше считать это выбросом и удалить. Таких значений не много."
   ]
  },
  {
   "cell_type": "markdown",
   "metadata": {
    "id": "F8soTI1jvoQa"
   },
   "source": [
    "Посмотрим на распределение признака внутри межквартильного размаха"
   ]
  },
  {
   "cell_type": "code",
   "execution_count": 71,
   "metadata": {
    "colab": {
     "base_uri": "https://localhost:8080/",
     "height": 380
    },
    "id": "HVxxopElqJOE",
    "outputId": "cf858a64-39cc-4b45-8e4d-dc3bb0329526"
   },
   "outputs": [
    {
     "data": {
      "image/png": "[encoded data removed]",
      "text/plain": [
       "<Figure size 576x360 with 1 Axes>"
      ]
     },
     "metadata": {
      "needs_background": "light"
     },
     "output_type": "display_data"
    }
   ],
   "source": [
    "interquartile_range(data['mileage'], bins=50)"
   ]
  },
  {
   "cell_type": "markdown",
   "metadata": {
    "id": "rPjVkKpev65k"
   },
   "source": [
    "Распределение в целом нормальное.\n",
    "Любопытны аномальные выбросы вблизи \"круглых\" значений пробега - 150, 200, 250, 300, 350, 400 тысяч километров.\n",
    "\n",
    "Может свидетельствовать о наличии в этих группах определённой доли автомобилей с \"нечестным\" пробегом."
   ]
  },
  {
   "cell_type": "code",
   "execution_count": 72,
   "metadata": {
    "id": "1Z7aG-Vvx3qY"
   },
   "outputs": [],
   "source": [
    "# зобработаем выбросы\n",
    "q_1 = np.quantile(data['mileage'], 0.25) \n",
    "q_3 = np.quantile(data['mileage'], 0.75) \n",
    "IQR = q_3 - q_1\n",
    "low = q_1 - IQR * 1.5 \n",
    "high = q_3 + IQR * 1.5\n",
    "data['mileage'] = data['mileage'].map(lambda x: replace_outliers(x, low, high))"
   ]
  },
  {
   "cell_type": "code",
   "execution_count": 73,
   "metadata": {
    "colab": {
     "base_uri": "https://localhost:8080/",
     "height": 297
    },
    "id": "ZKnBgx3bKwcC",
    "outputId": "2c7d4bb0-d146-4379-8714-d96c2216e4f1",
    "scrolled": true
   },
   "outputs": [
    {
     "data": {
      "image/png": "[encoded data removed]",
      "text/plain": [
       "<Figure size 576x288 with 1 Axes>"
      ]
     },
     "metadata": {
      "needs_background": "light"
     },
     "output_type": "display_data"
    }
   ],
   "source": [
    "# логарифмируем\n",
    "data['mileage'] = data['mileage'].apply(lambda w: np.log(w + 1))\n",
    "sns.displot(data=data, x=\"mileage\", height=4, aspect=2);"
   ]
  },
  {
   "cell_type": "markdown",
   "metadata": {},
   "source": [
    "# Подготовка данных"
   ]
  },
  {
   "cell_type": "code",
   "execution_count": 74,
   "metadata": {},
   "outputs": [],
   "source": [
    "# Категориальные признаки\n",
    "cat_cols = ['bodyType','brand','color','fuelType','model_name','vehicleTransmission','vendor','Владельцы','Привод','numberOfDoors']\n",
    "# бинарные\n",
    "bin_cols = ['ПТС','Руль','Состояние']\n",
    "# Количественные\n",
    "nom_cols = ['enginePower','mileage','modelDate','productionDate','engineDisplacement','description_len']"
   ]
  },
  {
   "cell_type": "code",
   "execution_count": 75,
   "metadata": {},
   "outputs": [
    {
     "data": {
      "text/html": [
       "<div>\n",
       "<style scoped>\n",
       "    .dataframe tbody tr th:only-of-type {\n",
       "        vertical-align: middle;\n",
       "    }\n",
       "\n",
       "    .dataframe tbody tr th {\n",
       "        vertical-align: top;\n",
       "    }\n",
       "\n",
       "    .dataframe thead th {\n",
       "        text-align: right;\n",
       "    }\n",
       "</style>\n",
       "<table border=\"1\" class=\"dataframe\">\n",
       "  <thead>\n",
       "    <tr style=\"text-align: right;\">\n",
       "      <th></th>\n",
       "      <th>enginePower</th>\n",
       "      <th>mileage</th>\n",
       "      <th>modelDate</th>\n",
       "      <th>productionDate</th>\n",
       "      <th>engineDisplacement</th>\n",
       "      <th>description_len</th>\n",
       "    </tr>\n",
       "  </thead>\n",
       "  <tbody>\n",
       "    <tr>\n",
       "      <th>0</th>\n",
       "      <td>290</td>\n",
       "      <td>12.128117</td>\n",
       "      <td>2009</td>\n",
       "      <td>2011</td>\n",
       "      <td>3.0</td>\n",
       "      <td>5.874931</td>\n",
       "    </tr>\n",
       "    <tr>\n",
       "      <th>1</th>\n",
       "      <td>173</td>\n",
       "      <td>12.206078</td>\n",
       "      <td>2009</td>\n",
       "      <td>2012</td>\n",
       "      <td>3.0</td>\n",
       "      <td>6.714171</td>\n",
       "    </tr>\n",
       "    <tr>\n",
       "      <th>2</th>\n",
       "      <td>309</td>\n",
       "      <td>12.429220</td>\n",
       "      <td>2012</td>\n",
       "      <td>2012</td>\n",
       "      <td>4.6</td>\n",
       "      <td>6.190315</td>\n",
       "    </tr>\n",
       "    <tr>\n",
       "      <th>3</th>\n",
       "      <td>150</td>\n",
       "      <td>11.695255</td>\n",
       "      <td>2005</td>\n",
       "      <td>2006</td>\n",
       "      <td>2.0</td>\n",
       "      <td>4.343805</td>\n",
       "    </tr>\n",
       "    <tr>\n",
       "      <th>4</th>\n",
       "      <td>133</td>\n",
       "      <td>12.066816</td>\n",
       "      <td>2010</td>\n",
       "      <td>2012</td>\n",
       "      <td>1.8</td>\n",
       "      <td>5.049856</td>\n",
       "    </tr>\n",
       "    <tr>\n",
       "      <th>...</th>\n",
       "      <td>...</td>\n",
       "      <td>...</td>\n",
       "      <td>...</td>\n",
       "      <td>...</td>\n",
       "      <td>...</td>\n",
       "      <td>...</td>\n",
       "    </tr>\n",
       "    <tr>\n",
       "      <th>146290</th>\n",
       "      <td>136</td>\n",
       "      <td>11.652696</td>\n",
       "      <td>2011</td>\n",
       "      <td>2014</td>\n",
       "      <td>1.6</td>\n",
       "      <td>6.028279</td>\n",
       "    </tr>\n",
       "    <tr>\n",
       "      <th>146291</th>\n",
       "      <td>190</td>\n",
       "      <td>11.492733</td>\n",
       "      <td>2016</td>\n",
       "      <td>2018</td>\n",
       "      <td>2.0</td>\n",
       "      <td>3.433987</td>\n",
       "    </tr>\n",
       "    <tr>\n",
       "      <th>146292</th>\n",
       "      <td>170</td>\n",
       "      <td>12.793862</td>\n",
       "      <td>1995</td>\n",
       "      <td>1997</td>\n",
       "      <td>2.5</td>\n",
       "      <td>2.890372</td>\n",
       "    </tr>\n",
       "    <tr>\n",
       "      <th>146293</th>\n",
       "      <td>184</td>\n",
       "      <td>11.413116</td>\n",
       "      <td>2012</td>\n",
       "      <td>2013</td>\n",
       "      <td>2.0</td>\n",
       "      <td>6.391917</td>\n",
       "    </tr>\n",
       "    <tr>\n",
       "      <th>146294</th>\n",
       "      <td>235</td>\n",
       "      <td>12.388398</td>\n",
       "      <td>2006</td>\n",
       "      <td>2008</td>\n",
       "      <td>3.0</td>\n",
       "      <td>6.238325</td>\n",
       "    </tr>\n",
       "  </tbody>\n",
       "</table>\n",
       "<p>146295 rows × 6 columns</p>\n",
       "</div>"
      ],
      "text/plain": [
       "        enginePower    mileage  modelDate  productionDate  engineDisplacement  \\\n",
       "0               290  12.128117       2009            2011                 3.0   \n",
       "1               173  12.206078       2009            2012                 3.0   \n",
       "2               309  12.429220       2012            2012                 4.6   \n",
       "3               150  11.695255       2005            2006                 2.0   \n",
       "4               133  12.066816       2010            2012                 1.8   \n",
       "...             ...        ...        ...             ...                 ...   \n",
       "146290          136  11.652696       2011            2014                 1.6   \n",
       "146291          190  11.492733       2016            2018                 2.0   \n",
       "146292          170  12.793862       1995            1997                 2.5   \n",
       "146293          184  11.413116       2012            2013                 2.0   \n",
       "146294          235  12.388398       2006            2008                 3.0   \n",
       "\n",
       "        description_len  \n",
       "0              5.874931  \n",
       "1              6.714171  \n",
       "2              6.190315  \n",
       "3              4.343805  \n",
       "4              5.049856  \n",
       "...                 ...  \n",
       "146290         6.028279  \n",
       "146291         3.433987  \n",
       "146292         2.890372  \n",
       "146293         6.391917  \n",
       "146294         6.238325  \n",
       "\n",
       "[146295 rows x 6 columns]"
      ]
     },
     "execution_count": 75,
     "metadata": {},
     "output_type": "execute_result"
    }
   ],
   "source": [
    "data[nom_cols]"
   ]
  },
  {
   "cell_type": "markdown",
   "metadata": {},
   "source": [
    "## Стандартизация"
   ]
  },
  {
   "cell_type": "code",
   "execution_count": 76,
   "metadata": {},
   "outputs": [
    {
     "data": {
      "text/html": [
       "<div>\n",
       "<style scoped>\n",
       "    .dataframe tbody tr th:only-of-type {\n",
       "        vertical-align: middle;\n",
       "    }\n",
       "\n",
       "    .dataframe tbody tr th {\n",
       "        vertical-align: top;\n",
       "    }\n",
       "\n",
       "    .dataframe thead th {\n",
       "        text-align: right;\n",
       "    }\n",
       "</style>\n",
       "<table border=\"1\" class=\"dataframe\">\n",
       "  <thead>\n",
       "    <tr style=\"text-align: right;\">\n",
       "      <th></th>\n",
       "      <th>enginePower</th>\n",
       "      <th>mileage</th>\n",
       "      <th>modelDate</th>\n",
       "      <th>productionDate</th>\n",
       "      <th>engineDisplacement</th>\n",
       "      <th>description_len</th>\n",
       "    </tr>\n",
       "  </thead>\n",
       "  <tbody>\n",
       "    <tr>\n",
       "      <th>27004</th>\n",
       "      <td>0.087513</td>\n",
       "      <td>-0.354183</td>\n",
       "      <td>0.786345</td>\n",
       "      <td>0.798826</td>\n",
       "      <td>-0.326191</td>\n",
       "      <td>-1.802577</td>\n",
       "    </tr>\n",
       "    <tr>\n",
       "      <th>143292</th>\n",
       "      <td>0.087513</td>\n",
       "      <td>-1.274712</td>\n",
       "      <td>1.146943</td>\n",
       "      <td>0.924041</td>\n",
       "      <td>-0.326191</td>\n",
       "      <td>-0.758567</td>\n",
       "    </tr>\n",
       "  </tbody>\n",
       "</table>\n",
       "</div>"
      ],
      "text/plain": [
       "        enginePower   mileage  modelDate  productionDate  engineDisplacement  \\\n",
       "27004      0.087513 -0.354183   0.786345        0.798826           -0.326191   \n",
       "143292     0.087513 -1.274712   1.146943        0.924041           -0.326191   \n",
       "\n",
       "        description_len  \n",
       "27004         -1.802577  \n",
       "143292        -0.758567  "
      ]
     },
     "execution_count": 76,
     "metadata": {},
     "output_type": "execute_result"
    }
   ],
   "source": [
    "# Для экспериментов\n",
    "scaler = StandardScaler()\n",
    "df_nom = pd.DataFrame(scaler.fit_transform(data[nom_cols]),columns=nom_cols)\n",
    "df_nom.sample(2)"
   ]
  },
  {
   "cell_type": "markdown",
   "metadata": {},
   "source": [
    "## Нормализация"
   ]
  },
  {
   "cell_type": "code",
   "execution_count": 77,
   "metadata": {},
   "outputs": [],
   "source": [
    "# scaler = MinMaxScaler()\n",
    "# df_nom = pd.DataFrame(scaler.fit_transform(data[nom_cols]),columns=nom_cols)\n",
    "# df_nom.sample(2)"
   ]
  },
  {
   "cell_type": "code",
   "execution_count": 78,
   "metadata": {},
   "outputs": [],
   "source": [
    "#from sklearn.preprocessing import OneHotEncoder\n",
    "#enc = OneHotEncoder(handle_unknown='ignore')\n",
    "#df_cat = pd.DataFrame()\n",
    "#df_cat = OneHotEncoder(sparse=False).fit_transform(data[cat_cols].values)\n",
    "\n",
    "#df_cat = pd.DataFrame(df_cat)"
   ]
  },
  {
   "cell_type": "markdown",
   "metadata": {},
   "source": [
    "## Label Encoding"
   ]
  },
  {
   "cell_type": "code",
   "execution_count": 79,
   "metadata": {},
   "outputs": [
    {
     "data": {
      "text/html": [
       "<div>\n",
       "<style scoped>\n",
       "    .dataframe tbody tr th:only-of-type {\n",
       "        vertical-align: middle;\n",
       "    }\n",
       "\n",
       "    .dataframe tbody tr th {\n",
       "        vertical-align: top;\n",
       "    }\n",
       "\n",
       "    .dataframe thead th {\n",
       "        text-align: right;\n",
       "    }\n",
       "</style>\n",
       "<table border=\"1\" class=\"dataframe\">\n",
       "  <thead>\n",
       "    <tr style=\"text-align: right;\">\n",
       "      <th></th>\n",
       "      <th>bodyType</th>\n",
       "      <th>brand</th>\n",
       "      <th>color</th>\n",
       "      <th>fuelType</th>\n",
       "      <th>model_name</th>\n",
       "      <th>vehicleTransmission</th>\n",
       "      <th>vendor</th>\n",
       "      <th>Владельцы</th>\n",
       "      <th>Привод</th>\n",
       "      <th>numberOfDoors</th>\n",
       "    </tr>\n",
       "  </thead>\n",
       "  <tbody>\n",
       "    <tr>\n",
       "      <th>77504</th>\n",
       "      <td>24</td>\n",
       "      <td>2</td>\n",
       "      <td>1</td>\n",
       "      <td>0</td>\n",
       "      <td>388</td>\n",
       "      <td>1</td>\n",
       "      <td>2</td>\n",
       "      <td>0</td>\n",
       "      <td>1</td>\n",
       "      <td>4</td>\n",
       "    </tr>\n",
       "    <tr>\n",
       "      <th>120928</th>\n",
       "      <td>24</td>\n",
       "      <td>1</td>\n",
       "      <td>15</td>\n",
       "      <td>0</td>\n",
       "      <td>10</td>\n",
       "      <td>0</td>\n",
       "      <td>1</td>\n",
       "      <td>1</td>\n",
       "      <td>0</td>\n",
       "      <td>4</td>\n",
       "    </tr>\n",
       "  </tbody>\n",
       "</table>\n",
       "</div>"
      ],
      "text/plain": [
       "        bodyType  brand  color  fuelType  model_name  vehicleTransmission  \\\n",
       "77504         24      2      1         0         388                    1   \n",
       "120928        24      1     15         0          10                    0   \n",
       "\n",
       "        vendor  Владельцы  Привод  numberOfDoors  \n",
       "77504        2          0       1              4  \n",
       "120928       1          1       0              4  "
      ]
     },
     "execution_count": 79,
     "metadata": {},
     "output_type": "execute_result"
    }
   ],
   "source": [
    "# Кодируем категориальные признаки\n",
    "df_cat = pd.DataFrame()\n",
    "for colum in cat_cols:\n",
    "    df_cat[colum] = data[colum].astype('category').cat.codes\n",
    "df_cat.sample(2)"
   ]
  },
  {
   "cell_type": "code",
   "execution_count": 80,
   "metadata": {},
   "outputs": [
    {
     "data": {
      "text/html": [
       "<div>\n",
       "<style scoped>\n",
       "    .dataframe tbody tr th:only-of-type {\n",
       "        vertical-align: middle;\n",
       "    }\n",
       "\n",
       "    .dataframe tbody tr th {\n",
       "        vertical-align: top;\n",
       "    }\n",
       "\n",
       "    .dataframe thead th {\n",
       "        text-align: right;\n",
       "    }\n",
       "</style>\n",
       "<table border=\"1\" class=\"dataframe\">\n",
       "  <thead>\n",
       "    <tr style=\"text-align: right;\">\n",
       "      <th></th>\n",
       "      <th>ПТС</th>\n",
       "      <th>Руль</th>\n",
       "      <th>Состояние</th>\n",
       "    </tr>\n",
       "  </thead>\n",
       "  <tbody>\n",
       "    <tr>\n",
       "      <th>125243</th>\n",
       "      <td>1</td>\n",
       "      <td>0</td>\n",
       "      <td>0</td>\n",
       "    </tr>\n",
       "    <tr>\n",
       "      <th>87776</th>\n",
       "      <td>0</td>\n",
       "      <td>1</td>\n",
       "      <td>0</td>\n",
       "    </tr>\n",
       "  </tbody>\n",
       "</table>\n",
       "</div>"
      ],
      "text/plain": [
       "        ПТС  Руль  Состояние\n",
       "125243    1     0          0\n",
       "87776     0     1          0"
      ]
     },
     "execution_count": 80,
     "metadata": {},
     "output_type": "execute_result"
    }
   ],
   "source": [
    "# Кодируем бинарные признаки\n",
    "le = LabelEncoder()\n",
    "df_bin = pd.DataFrame()\n",
    "for col in bin_cols:\n",
    "    le.fit(data[col])\n",
    "    df_bin[col] = le.transform(data[col])\n",
    "    \n",
    "df_bin.sample(2)"
   ]
  },
  {
   "cell_type": "code",
   "execution_count": 81,
   "metadata": {},
   "outputs": [
    {
     "data": {
      "text/html": [
       "<div>\n",
       "<style scoped>\n",
       "    .dataframe tbody tr th:only-of-type {\n",
       "        vertical-align: middle;\n",
       "    }\n",
       "\n",
       "    .dataframe tbody tr th {\n",
       "        vertical-align: top;\n",
       "    }\n",
       "\n",
       "    .dataframe thead th {\n",
       "        text-align: right;\n",
       "    }\n",
       "</style>\n",
       "<table border=\"1\" class=\"dataframe\">\n",
       "  <thead>\n",
       "    <tr style=\"text-align: right;\">\n",
       "      <th></th>\n",
       "      <th>enginePower</th>\n",
       "      <th>mileage</th>\n",
       "      <th>modelDate</th>\n",
       "      <th>productionDate</th>\n",
       "      <th>engineDisplacement</th>\n",
       "      <th>description_len</th>\n",
       "      <th>bodyType</th>\n",
       "      <th>brand</th>\n",
       "      <th>color</th>\n",
       "      <th>fuelType</th>\n",
       "      <th>...</th>\n",
       "      <th>vehicleTransmission</th>\n",
       "      <th>vendor</th>\n",
       "      <th>Владельцы</th>\n",
       "      <th>Привод</th>\n",
       "      <th>numberOfDoors</th>\n",
       "      <th>ПТС</th>\n",
       "      <th>Руль</th>\n",
       "      <th>Состояние</th>\n",
       "      <th>price</th>\n",
       "      <th>sample</th>\n",
       "    </tr>\n",
       "  </thead>\n",
       "  <tbody>\n",
       "    <tr>\n",
       "      <th>95093</th>\n",
       "      <td>-0.847301</td>\n",
       "      <td>-0.127311</td>\n",
       "      <td>-0.535849</td>\n",
       "      <td>-0.703747</td>\n",
       "      <td>-0.872960</td>\n",
       "      <td>-2.957868</td>\n",
       "      <td>20</td>\n",
       "      <td>9</td>\n",
       "      <td>1</td>\n",
       "      <td>0</td>\n",
       "      <td>...</td>\n",
       "      <td>0</td>\n",
       "      <td>2</td>\n",
       "      <td>0</td>\n",
       "      <td>2</td>\n",
       "      <td>4</td>\n",
       "      <td>1</td>\n",
       "      <td>1</td>\n",
       "      <td>0</td>\n",
       "      <td>220000.0</td>\n",
       "      <td>1</td>\n",
       "    </tr>\n",
       "    <tr>\n",
       "      <th>6679</th>\n",
       "      <td>-1.083963</td>\n",
       "      <td>0.716604</td>\n",
       "      <td>-1.016646</td>\n",
       "      <td>-1.079391</td>\n",
       "      <td>-1.091668</td>\n",
       "      <td>-1.076858</td>\n",
       "      <td>4</td>\n",
       "      <td>7</td>\n",
       "      <td>15</td>\n",
       "      <td>0</td>\n",
       "      <td>...</td>\n",
       "      <td>0</td>\n",
       "      <td>2</td>\n",
       "      <td>1</td>\n",
       "      <td>1</td>\n",
       "      <td>4</td>\n",
       "      <td>1</td>\n",
       "      <td>1</td>\n",
       "      <td>0</td>\n",
       "      <td>130000.0</td>\n",
       "      <td>1</td>\n",
       "    </tr>\n",
       "  </tbody>\n",
       "</table>\n",
       "<p>2 rows × 21 columns</p>\n",
       "</div>"
      ],
      "text/plain": [
       "       enginePower   mileage  modelDate  productionDate  engineDisplacement  \\\n",
       "95093    -0.847301 -0.127311  -0.535849       -0.703747           -0.872960   \n",
       "6679     -1.083963  0.716604  -1.016646       -1.079391           -1.091668   \n",
       "\n",
       "       description_len  bodyType  brand  color  fuelType  ...  \\\n",
       "95093        -2.957868        20      9      1         0  ...   \n",
       "6679         -1.076858         4      7     15         0  ...   \n",
       "\n",
       "       vehicleTransmission  vendor  Владельцы  Привод  numberOfDoors  ПТС  \\\n",
       "95093                    0       2          0       2              4    1   \n",
       "6679                     0       2          1       1              4    1   \n",
       "\n",
       "       Руль  Состояние     price  sample  \n",
       "95093     1          0  220000.0       1  \n",
       "6679      1          0  130000.0       1  \n",
       "\n",
       "[2 rows x 21 columns]"
      ]
     },
     "execution_count": 81,
     "metadata": {},
     "output_type": "execute_result"
    }
   ],
   "source": [
    "# Соединяем\n",
    "df = pd.concat([df_nom, df_cat, df_bin], sort=False,axis=1)\n",
    "df[['price','sample']] = data[['price','sample']].copy()\n",
    "\n",
    "df.sample(2)"
   ]
  },
  {
   "cell_type": "code",
   "execution_count": 82,
   "metadata": {},
   "outputs": [],
   "source": [
    "# # Создание полиномиальных признаков - не дало существенного прироста качества \n",
    "# lst = nom_cols + cat_cols\n",
    "# pf = PolynomialFeatures(2)\n",
    "# X_poly = pd.DataFrame(pf.fit_transform(df[lst]))\n",
    "# df = pd.concat([df, X_poly], sort=False, axis=1)\n",
    "# df.sample(2)"
   ]
  },
  {
   "cell_type": "code",
   "execution_count": 83,
   "metadata": {
    "scrolled": false
   },
   "outputs": [
    {
     "data": {
      "text/html": [
       "<div>\n",
       "<style scoped>\n",
       "    .dataframe tbody tr th:only-of-type {\n",
       "        vertical-align: middle;\n",
       "    }\n",
       "\n",
       "    .dataframe tbody tr th {\n",
       "        vertical-align: top;\n",
       "    }\n",
       "\n",
       "    .dataframe thead th {\n",
       "        text-align: right;\n",
       "    }\n",
       "</style>\n",
       "<table border=\"1\" class=\"dataframe\">\n",
       "  <thead>\n",
       "    <tr style=\"text-align: right;\">\n",
       "      <th></th>\n",
       "      <th>enginePower</th>\n",
       "      <th>mileage</th>\n",
       "      <th>modelDate</th>\n",
       "      <th>productionDate</th>\n",
       "      <th>engineDisplacement</th>\n",
       "      <th>description_len</th>\n",
       "      <th>bodyType</th>\n",
       "      <th>brand</th>\n",
       "      <th>color</th>\n",
       "      <th>fuelType</th>\n",
       "      <th>...</th>\n",
       "      <th>vehicleTransmission</th>\n",
       "      <th>vendor</th>\n",
       "      <th>Владельцы</th>\n",
       "      <th>Привод</th>\n",
       "      <th>numberOfDoors</th>\n",
       "      <th>ПТС</th>\n",
       "      <th>Руль</th>\n",
       "      <th>Состояние</th>\n",
       "      <th>price</th>\n",
       "      <th>sample</th>\n",
       "    </tr>\n",
       "  </thead>\n",
       "  <tbody>\n",
       "    <tr>\n",
       "      <th>count</th>\n",
       "      <td>1.462950e+05</td>\n",
       "      <td>1.462950e+05</td>\n",
       "      <td>1.462950e+05</td>\n",
       "      <td>1.462950e+05</td>\n",
       "      <td>1.462950e+05</td>\n",
       "      <td>1.462950e+05</td>\n",
       "      <td>146295.000000</td>\n",
       "      <td>146295.000000</td>\n",
       "      <td>146295.000000</td>\n",
       "      <td>146295.000000</td>\n",
       "      <td>...</td>\n",
       "      <td>146295.000000</td>\n",
       "      <td>146295.000000</td>\n",
       "      <td>146295.000000</td>\n",
       "      <td>146295.000000</td>\n",
       "      <td>146295.000000</td>\n",
       "      <td>146295.000000</td>\n",
       "      <td>146295.000000</td>\n",
       "      <td>146295.000000</td>\n",
       "      <td>1.116090e+05</td>\n",
       "      <td>146295.000000</td>\n",
       "    </tr>\n",
       "    <tr>\n",
       "      <th>mean</th>\n",
       "      <td>-1.267599e-14</td>\n",
       "      <td>-1.669809e-15</td>\n",
       "      <td>3.802555e-14</td>\n",
       "      <td>-3.203204e-15</td>\n",
       "      <td>3.377903e-14</td>\n",
       "      <td>2.419448e-15</td>\n",
       "      <td>10.081814</td>\n",
       "      <td>6.008968</td>\n",
       "      <td>9.454985</td>\n",
       "      <td>0.553348</td>\n",
       "      <td>...</td>\n",
       "      <td>0.881609</td>\n",
       "      <td>1.451806</td>\n",
       "      <td>1.270754</td>\n",
       "      <td>1.286975</td>\n",
       "      <td>3.467118</td>\n",
       "      <td>0.833159</td>\n",
       "      <td>0.115185</td>\n",
       "      <td>0.019796</td>\n",
       "      <td>1.224350e+06</td>\n",
       "      <td>0.762904</td>\n",
       "    </tr>\n",
       "    <tr>\n",
       "      <th>std</th>\n",
       "      <td>1.000003e+00</td>\n",
       "      <td>1.000003e+00</td>\n",
       "      <td>1.000003e+00</td>\n",
       "      <td>1.000003e+00</td>\n",
       "      <td>1.000003e+00</td>\n",
       "      <td>1.000003e+00</td>\n",
       "      <td>7.752056</td>\n",
       "      <td>3.400402</td>\n",
       "      <td>5.459598</td>\n",
       "      <td>1.159388</td>\n",
       "      <td>...</td>\n",
       "      <td>1.072340</td>\n",
       "      <td>0.497715</td>\n",
       "      <td>0.831561</td>\n",
       "      <td>0.669069</td>\n",
       "      <td>0.676802</td>\n",
       "      <td>0.372835</td>\n",
       "      <td>0.319246</td>\n",
       "      <td>0.139298</td>\n",
       "      <td>1.457432e+06</td>\n",
       "      <td>0.425303</td>\n",
       "    </tr>\n",
       "    <tr>\n",
       "      <th>min</th>\n",
       "      <td>-2.006944e+00</td>\n",
       "      <td>-1.079731e+01</td>\n",
       "      <td>-1.231539e+01</td>\n",
       "      <td>-1.309998e+01</td>\n",
       "      <td>-2.513269e+00</td>\n",
       "      <td>-4.211315e+00</td>\n",
       "      <td>0.000000</td>\n",
       "      <td>0.000000</td>\n",
       "      <td>0.000000</td>\n",
       "      <td>0.000000</td>\n",
       "      <td>...</td>\n",
       "      <td>0.000000</td>\n",
       "      <td>0.000000</td>\n",
       "      <td>0.000000</td>\n",
       "      <td>0.000000</td>\n",
       "      <td>0.000000</td>\n",
       "      <td>0.000000</td>\n",
       "      <td>0.000000</td>\n",
       "      <td>0.000000</td>\n",
       "      <td>1.200000e+04</td>\n",
       "      <td>0.000000</td>\n",
       "    </tr>\n",
       "    <tr>\n",
       "      <th>25%</th>\n",
       "      <td>-7.171369e-01</td>\n",
       "      <td>-2.953485e-01</td>\n",
       "      <td>-5.358488e-01</td>\n",
       "      <td>-5.785328e-01</td>\n",
       "      <td>-7.636065e-01</td>\n",
       "      <td>-6.132668e-01</td>\n",
       "      <td>1.000000</td>\n",
       "      <td>3.000000</td>\n",
       "      <td>4.000000</td>\n",
       "      <td>0.000000</td>\n",
       "      <td>...</td>\n",
       "      <td>0.000000</td>\n",
       "      <td>1.000000</td>\n",
       "      <td>1.000000</td>\n",
       "      <td>1.000000</td>\n",
       "      <td>3.000000</td>\n",
       "      <td>1.000000</td>\n",
       "      <td>0.000000</td>\n",
       "      <td>0.000000</td>\n",
       "      <td>3.800000e+05</td>\n",
       "      <td>1.000000</td>\n",
       "    </tr>\n",
       "    <tr>\n",
       "      <th>50%</th>\n",
       "      <td>-2.911456e-01</td>\n",
       "      <td>2.066080e-01</td>\n",
       "      <td>1.853476e-01</td>\n",
       "      <td>2.979684e-01</td>\n",
       "      <td>-3.261908e-01</td>\n",
       "      <td>6.129929e-02</td>\n",
       "      <td>15.000000</td>\n",
       "      <td>7.000000</td>\n",
       "      <td>12.000000</td>\n",
       "      <td>0.000000</td>\n",
       "      <td>...</td>\n",
       "      <td>0.000000</td>\n",
       "      <td>1.000000</td>\n",
       "      <td>2.000000</td>\n",
       "      <td>1.000000</td>\n",
       "      <td>4.000000</td>\n",
       "      <td>1.000000</td>\n",
       "      <td>0.000000</td>\n",
       "      <td>0.000000</td>\n",
       "      <td>7.900000e+05</td>\n",
       "      <td>1.000000</td>\n",
       "    </tr>\n",
       "    <tr>\n",
       "      <th>75%</th>\n",
       "      <td>4.070067e-01</td>\n",
       "      <td>5.786738e-01</td>\n",
       "      <td>7.863446e-01</td>\n",
       "      <td>6.736118e-01</td>\n",
       "      <td>5.486406e-01</td>\n",
       "      <td>7.941758e-01</td>\n",
       "      <td>15.000000</td>\n",
       "      <td>9.000000</td>\n",
       "      <td>15.000000</td>\n",
       "      <td>0.000000</td>\n",
       "      <td>...</td>\n",
       "      <td>2.000000</td>\n",
       "      <td>2.000000</td>\n",
       "      <td>2.000000</td>\n",
       "      <td>2.000000</td>\n",
       "      <td>4.000000</td>\n",
       "      <td>1.000000</td>\n",
       "      <td>0.000000</td>\n",
       "      <td>0.000000</td>\n",
       "      <td>1.549000e+06</td>\n",
       "      <td>1.000000</td>\n",
       "    </tr>\n",
       "    <tr>\n",
       "      <th>max</th>\n",
       "      <td>5.601733e+00</td>\n",
       "      <td>1.198176e+00</td>\n",
       "      <td>1.747940e+00</td>\n",
       "      <td>1.550113e+00</td>\n",
       "      <td>4.704090e+00</td>\n",
       "      <td>1.459882e+00</td>\n",
       "      <td>24.000000</td>\n",
       "      <td>11.000000</td>\n",
       "      <td>15.000000</td>\n",
       "      <td>4.000000</td>\n",
       "      <td>...</td>\n",
       "      <td>3.000000</td>\n",
       "      <td>2.000000</td>\n",
       "      <td>2.000000</td>\n",
       "      <td>2.000000</td>\n",
       "      <td>4.000000</td>\n",
       "      <td>1.000000</td>\n",
       "      <td>1.000000</td>\n",
       "      <td>1.000000</td>\n",
       "      <td>6.500000e+07</td>\n",
       "      <td>1.000000</td>\n",
       "    </tr>\n",
       "  </tbody>\n",
       "</table>\n",
       "<p>8 rows × 21 columns</p>\n",
       "</div>"
      ],
      "text/plain": [
       "        enginePower       mileage     modelDate  productionDate  \\\n",
       "count  1.462950e+05  1.462950e+05  1.462950e+05    1.462950e+05   \n",
       "mean  -1.267599e-14 -1.669809e-15  3.802555e-14   -3.203204e-15   \n",
       "std    1.000003e+00  1.000003e+00  1.000003e+00    1.000003e+00   \n",
       "min   -2.006944e+00 -1.079731e+01 -1.231539e+01   -1.309998e+01   \n",
       "25%   -7.171369e-01 -2.953485e-01 -5.358488e-01   -5.785328e-01   \n",
       "50%   -2.911456e-01  2.066080e-01  1.853476e-01    2.979684e-01   \n",
       "75%    4.070067e-01  5.786738e-01  7.863446e-01    6.736118e-01   \n",
       "max    5.601733e+00  1.198176e+00  1.747940e+00    1.550113e+00   \n",
       "\n",
       "       engineDisplacement  description_len       bodyType          brand  \\\n",
       "count        1.462950e+05     1.462950e+05  146295.000000  146295.000000   \n",
       "mean         3.377903e-14     2.419448e-15      10.081814       6.008968   \n",
       "std          1.000003e+00     1.000003e+00       7.752056       3.400402   \n",
       "min         -2.513269e+00    -4.211315e+00       0.000000       0.000000   \n",
       "25%         -7.636065e-01    -6.132668e-01       1.000000       3.000000   \n",
       "50%         -3.261908e-01     6.129929e-02      15.000000       7.000000   \n",
       "75%          5.486406e-01     7.941758e-01      15.000000       9.000000   \n",
       "max          4.704090e+00     1.459882e+00      24.000000      11.000000   \n",
       "\n",
       "               color       fuelType  ...  vehicleTransmission         vendor  \\\n",
       "count  146295.000000  146295.000000  ...        146295.000000  146295.000000   \n",
       "mean        9.454985       0.553348  ...             0.881609       1.451806   \n",
       "std         5.459598       1.159388  ...             1.072340       0.497715   \n",
       "min         0.000000       0.000000  ...             0.000000       0.000000   \n",
       "25%         4.000000       0.000000  ...             0.000000       1.000000   \n",
       "50%        12.000000       0.000000  ...             0.000000       1.000000   \n",
       "75%        15.000000       0.000000  ...             2.000000       2.000000   \n",
       "max        15.000000       4.000000  ...             3.000000       2.000000   \n",
       "\n",
       "           Владельцы         Привод  numberOfDoors            ПТС  \\\n",
       "count  146295.000000  146295.000000  146295.000000  146295.000000   \n",
       "mean        1.270754       1.286975       3.467118       0.833159   \n",
       "std         0.831561       0.669069       0.676802       0.372835   \n",
       "min         0.000000       0.000000       0.000000       0.000000   \n",
       "25%         1.000000       1.000000       3.000000       1.000000   \n",
       "50%         2.000000       1.000000       4.000000       1.000000   \n",
       "75%         2.000000       2.000000       4.000000       1.000000   \n",
       "max         2.000000       2.000000       4.000000       1.000000   \n",
       "\n",
       "                Руль      Состояние         price         sample  \n",
       "count  146295.000000  146295.000000  1.116090e+05  146295.000000  \n",
       "mean        0.115185       0.019796  1.224350e+06       0.762904  \n",
       "std         0.319246       0.139298  1.457432e+06       0.425303  \n",
       "min         0.000000       0.000000  1.200000e+04       0.000000  \n",
       "25%         0.000000       0.000000  3.800000e+05       1.000000  \n",
       "50%         0.000000       0.000000  7.900000e+05       1.000000  \n",
       "75%         0.000000       0.000000  1.549000e+06       1.000000  \n",
       "max         1.000000       1.000000  6.500000e+07       1.000000  \n",
       "\n",
       "[8 rows x 21 columns]"
      ]
     },
     "execution_count": 83,
     "metadata": {},
     "output_type": "execute_result"
    }
   ],
   "source": [
    "df.describe()"
   ]
  },
  {
   "cell_type": "markdown",
   "metadata": {
    "id": "FiWup3gOOe73"
   },
   "source": [
    "## ИТОГИ ПРЕДОБРАБОТКИ"
   ]
  },
  {
   "cell_type": "markdown",
   "metadata": {},
   "source": [
    "## Значение номинативных признаков"
   ]
  },
  {
   "cell_type": "code",
   "execution_count": 84,
   "metadata": {},
   "outputs": [],
   "source": [
    "#from sklearn.feature_selection import f_regression\n",
    "#result = df[df['sample'] == 1].copy()\n",
    "#result = pd.Series(f_regression(result[nom_cols], result['price'])[0], index=[nom_cols][0])\n",
    "#result.sort_values(inplace=True)\n",
    "#result.plot(kind='barh');"
   ]
  },
  {
   "cell_type": "code",
   "execution_count": 85,
   "metadata": {
    "scrolled": false
   },
   "outputs": [
    {
     "data": {
      "image/png": "[encoded data removed]",
      "text/plain": [
       "<Figure size 432x288 with 1 Axes>"
      ]
     },
     "metadata": {
      "needs_background": "light"
     },
     "output_type": "display_data"
    }
   ],
   "source": [
    "result = df[df['sample'] == 1].copy()\n",
    "result = pd.Series(f_classif(result[nom_cols], result['price'])[0], index=[nom_cols][0])\n",
    "result.sort_values(inplace=True)\n",
    "result.plot(kind='barh');"
   ]
  },
  {
   "cell_type": "markdown",
   "metadata": {},
   "source": [
    "Всё закономеро - цена сильно зависит от года и пробега"
   ]
  },
  {
   "cell_type": "markdown",
   "metadata": {},
   "source": [
    "## Значение категориальных и бинарных признаков"
   ]
  },
  {
   "cell_type": "code",
   "execution_count": 86,
   "metadata": {},
   "outputs": [
    {
     "data": {
      "image/png": "[encoded data removed]",
      "text/plain": [
       "<Figure size 432x288 with 1 Axes>"
      ]
     },
     "metadata": {
      "needs_background": "light"
     },
     "output_type": "display_data"
    }
   ],
   "source": [
    "result = df[df['sample'] == 1].copy()\n",
    "result = pd.Series(mutual_info_classif(result[cat_cols + bin_cols],result['price'],\n",
    "    discrete_features=True), index=[cat_cols + bin_cols][0])\n",
    "result.sort_values(inplace=True)\n",
    "result.plot(kind='barh');"
   ]
  },
  {
   "cell_type": "markdown",
   "metadata": {
    "id": "zd93uktIOtdH"
   },
   "source": [
    "Построим общую корреляционную матрицу для всех обработанных признаков"
   ]
  },
  {
   "cell_type": "code",
   "execution_count": 87,
   "metadata": {
    "colab": {
     "base_uri": "https://localhost:8080/",
     "height": 811
    },
    "id": "5dCwBSL0O4Zz",
    "outputId": "c0461d6d-cd5b-43b0-ee5c-a127aacd9326"
   },
   "outputs": [
    {
     "data": {
      "image/png": "[encoded data removed]",
      "text/plain": [
       "<Figure size 1296x864 with 2 Axes>"
      ]
     },
     "metadata": {
      "needs_background": "light"
     },
     "output_type": "display_data"
    }
   ],
   "source": [
    "result = df[df['sample'] == 1].copy()\n",
    "plt.figure(figsize=(18, 12))\n",
    "sns.heatmap(result[cat_cols + bin_cols + nom_cols].corr(),annot=True, linewidths=.5);"
   ]
  },
  {
   "cell_type": "markdown",
   "metadata": {},
   "source": [
    "Сильная корреляция между:\n",
    "\n",
    "* modelDate - productionDate\n",
    "* engineDisplacement - enginePower\n",
    "\n",
    "Объединим признаки методом главных компонент"
   ]
  },
  {
   "cell_type": "code",
   "execution_count": 88,
   "metadata": {},
   "outputs": [],
   "source": [
    "feature = {'periodOperation': ['modelDate', 'productionDate'],\n",
    "           'engine': ['engineDisplacement', 'enginePower']}\n",
    "for key in feature.keys():\n",
    "    result = df[feature[key]].values\n",
    "\n",
    "    # создаём экземпляр Scaler\n",
    "    scaler = StandardScaler()\n",
    "    scaled_data = scaler.fit_transform(result)\n",
    "\n",
    "    # Указываем новую размерность - n_components\n",
    "    pca = PCA(n_components=1)\n",
    "    pca.fit(scaled_data)\n",
    "    pca_data = pca.transform(scaled_data)\n",
    "    \n",
    "    # создаём новый признак\n",
    "    df[key] = pca_data\n",
    "    df = df.drop(feature[key],axis=1)\n",
    "\n",
    "# Скорректируем количественные признаки\n",
    "nom_cols = ['engine','mileage','numberOfDoors','periodOperation','description_len']"
   ]
  },
  {
   "cell_type": "markdown",
   "metadata": {},
   "source": [
    "Смотрим на результат:"
   ]
  },
  {
   "cell_type": "code",
   "execution_count": 89,
   "metadata": {},
   "outputs": [
    {
     "data": {
      "image/png": "[encoded data removed]",
      "text/plain": [
       "<Figure size 720x576 with 2 Axes>"
      ]
     },
     "metadata": {
      "needs_background": "light"
     },
     "output_type": "display_data"
    }
   ],
   "source": [
    "result = df[df['sample'] == 1].copy()\n",
    "plt.figure(figsize=(10, 8))\n",
    "sns.heatmap(result[nom_cols].corr(),annot=True, linewidths=.5);"
   ]
  },
  {
   "cell_type": "markdown",
   "metadata": {},
   "source": [
    "Значительных корреляций нет"
   ]
  },
  {
   "cell_type": "markdown",
   "metadata": {},
   "source": [
    "## Train Split"
   ]
  },
  {
   "cell_type": "code",
   "execution_count": 90,
   "metadata": {},
   "outputs": [
    {
     "data": {
      "text/plain": [
       "'y (111609,), train (111609, 17), test (34686, 17)'"
      ]
     },
     "metadata": {},
     "output_type": "display_data"
    }
   ],
   "source": [
    "X = df.query('sample == 1').drop(['sample', 'price'], axis=1)\n",
    "y = df.query('sample == 1')['price'] \n",
    "X_sub = df.query('sample == 0').drop(['sample', 'price'], axis=1)\n",
    "\n",
    "display(f'y {y.shape}, train {X.shape}, test {X_sub.shape}')"
   ]
  },
  {
   "cell_type": "code",
   "execution_count": 91,
   "metadata": {},
   "outputs": [],
   "source": [
    "X_train, X_test, y_train, y_test = train_test_split(X, y, test_size=VAL_SIZE, shuffle=True, random_state=RANDOM_SEED)"
   ]
  },
  {
   "cell_type": "markdown",
   "metadata": {},
   "source": [
    "# Модели"
   ]
  },
  {
   "cell_type": "code",
   "execution_count": 92,
   "metadata": {},
   "outputs": [],
   "source": [
    "def print_learn_report(start, y_test, y_pred):\n",
    "    print('\\nВремя выполнения - ', datetime.now() - start)\n",
    "    print(f\"Точность по метрике MAPE:{(mape(y_test, y_pred))*100:0.2f}%\")"
   ]
  },
  {
   "cell_type": "markdown",
   "metadata": {},
   "source": [
    "## Lazypredict\n",
    "\n",
    "Определим наиболее подходящую модель"
   ]
  },
  {
   "cell_type": "code",
   "execution_count": 93,
   "metadata": {},
   "outputs": [],
   "source": [
    "# # # Для проверки моделей используем 10% данных\n",
    "# start = datetime.now()\n",
    "# offset = int(X.shape[0] * 0.9)\n",
    "\n",
    "# X_train, y_train = X[:offset], y[:offset]\n",
    "# X_test, y_test = X[offset:], y[offset:]\n",
    "\n",
    "# reg = LazyRegressor(verbose=0, ignore_warnings=False, custom_metric=mape)\n",
    "# models, predictions = reg.fit(X_train, X_test, y_train, y_test)\n",
    "\n",
    "# print(models)"
   ]
  },
  {
   "cell_type": "markdown",
   "metadata": {},
   "source": [
    "```\n",
    "                               Adjusted R-Squared  R-Squared       RMSE  \\\n",
    "Model                                                                     \n",
    "XGBRegressor                                 0.91       0.91  595420.87   \n",
    "LGBMRegressor                                0.89       0.89  652713.35   \n",
    "ExtraTreesRegressor                          0.89       0.89  652832.40   \n",
    "HistGradientBoostingRegressor                0.89       0.89  661996.65   \n",
    "RandomForestRegressor                        0.88       0.88  694623.33   \n",
    "BaggingRegressor                             0.88       0.88  706276.89   \n",
    "ExtraTreeRegressor                           0.87       0.87  709650.79   \n",
    "GradientBoostingRegressor                    0.86       0.86  755500.67   \n",
    "DecisionTreeRegressor                        0.83       0.83  837041.05   \n",
    "KNeighborsRegressor                          0.80       0.80  892743.07   \n",
    "PoissonRegressor                             0.69       0.69 1110058.78   \n",
    "MLPRegressor                                 0.57       0.57 1320252.33   \n",
    "SGDRegressor                                 0.55       0.55 1345162.66   \n",
    "LinearRegression                             0.54       0.54 1353922.44   \n",
    "TransformedTargetRegressor                   0.54       0.54 1353922.44   \n",
    "Lars                                         0.54       0.54 1353922.44   \n",
    "Lasso                                        0.54       0.54 1353923.28   \n",
    "Ridge                                        0.54       0.54 1353925.26   \n",
    "RidgeCV                                      0.54       0.54 1353950.71   \n",
    "LassoLarsIC                                  0.54       0.54 1353953.97   \n",
    "BayesianRidge                                0.54       0.54 1353969.68   \n",
    "LassoLars                                    0.54       0.54 1354190.36   \n",
    "LassoLarsCV                                  0.54       0.54 1356595.90   \n",
    "LarsCV                                       0.54       0.54 1356595.90   \n",
    "LassoCV                                      0.54       0.54 1359422.11   \n",
    "OrthogonalMatchingPursuitCV                  0.54       0.54 1365904.19   \n",
    "ElasticNet                                   0.45       0.45 1480839.55   \n",
    "GammaRegressor                               0.45       0.45 1482874.68   \n",
    "HuberRegressor                               0.42       0.42 1527823.90   \n",
    "PassiveAggressiveRegressor                   0.40       0.40 1550372.91   \n",
    "RANSACRegressor                              0.40       0.40 1556466.78   \n",
    "TweedieRegressor                             0.38       0.38 1573060.79   \n",
    "GeneralizedLinearRegressor                   0.38       0.38 1573060.79   \n",
    "OrthogonalMatchingPursuit                    0.21       0.22 1775880.52   \n",
    "AdaBoostRegressor                            0.03       0.03 1974856.41   \n",
    "ElasticNetCV                                -0.21      -0.21 2204529.43   \n",
    "DummyRegressor                              -0.21      -0.21 2207947.67   \n",
    "NuSVR                                       -0.34      -0.34 2319552.19   \n",
    "SVR                                         -0.44      -0.43 2401142.85   \n",
    "LinearSVR                                   -0.94      -0.93 2788813.23   \n",
    "\n",
    "                               Time Taken  mape  \n",
    "Model                                            \n",
    "XGBRegressor                         7.22  0.11  \n",
    "LGBMRegressor                        0.98  0.13  \n",
    "ExtraTreesRegressor                 56.95  0.11  \n",
    "HistGradientBoostingRegressor        3.08  0.13  \n",
    "RandomForestRegressor               75.03  0.11  \n",
    "BaggingRegressor                     8.00  0.11  \n",
    "ExtraTreeRegressor                   0.70  0.15  \n",
    "GradientBoostingRegressor           19.16  0.16  \n",
    "DecisionTreeRegressor                1.33  0.15  \n",
    "KNeighborsRegressor                 16.36  0.19  \n",
    "PoissonRegressor                     0.55  0.26  \n",
    "MLPRegressor                       268.04  0.43  \n",
    "SGDRegressor                         0.64  0.40  \n",
    "LinearRegression                     0.23  0.39  \n",
    "TransformedTargetRegressor           0.22  0.39  \n",
    "Lars                                 0.21  0.39  \n",
    "Lasso                                0.32  0.39  \n",
    "Ridge                                0.21  0.39  \n",
    "RidgeCV                              0.38  0.39  \n",
    "LassoLarsIC                          0.25  0.39  \n",
    "BayesianRidge                        0.27  0.39  \n",
    "LassoLars                            0.21  0.39  \n",
    "LassoLarsCV                          1.00  0.39  \n",
    "LarsCV                               0.97  0.39  \n",
    "LassoCV                              1.19  0.39  \n",
    "OrthogonalMatchingPursuitCV          0.65  0.39  \n",
    "ElasticNet                           0.24  0.39  \n",
    "GammaRegressor                       0.36  0.35  \n",
    "HuberRegressor                       0.91  0.34  \n",
    "PassiveAggressiveRegressor           2.76  0.34  \n",
    "RANSACRegressor                      0.83  0.36  \n",
    "TweedieRegressor                     0.26  0.41  \n",
    "GeneralizedLinearRegressor           0.31  0.41  \n",
    "OrthogonalMatchingPursuit            0.18  0.56  \n",
    "AdaBoostRegressor                   11.24  1.84  \n",
    "ElasticNetCV                         1.09  0.69  \n",
    "DummyRegressor                       0.15  0.69  \n",
    "NuSVR                             1098.75  0.62  \n",
    "SVR                               1887.86  0.61  \n",
    "LinearSVR                            0.31  0.90 \n",
    "```"
   ]
  },
  {
   "cell_type": "markdown",
   "metadata": {},
   "source": [
    "## Lazypredict - модели с лучшей метрикой MAPE\n",
    "\n",
    "Model|Time Taken | mape\n",
    ":-|-:|-:                                      \n",
    "XGBRegressor|                         7.22|  0.11   \n",
    "ExtraTreesRegressor|                 56.95 | 0.11   \n",
    "RandomForestRegressor         |      75.03 | 0.11  \n",
    "BaggingRegressor               |      8.00 | 0.11 \n",
    "\n",
    "\n",
    "\n",
    "Самые быстрые XGBRegressor и BaggingRegressor"
   ]
  },
  {
   "cell_type": "markdown",
   "metadata": {},
   "source": [
    "Но проверим еще некоторые модели"
   ]
  },
  {
   "cell_type": "markdown",
   "metadata": {},
   "source": [
    "##  CatBoost"
   ]
  },
  {
   "cell_type": "code",
   "execution_count": 94,
   "metadata": {},
   "outputs": [],
   "source": [
    "# start = datetime.now()\n",
    "\n",
    "# model = CatBoostRegressor(iterations = 5000,\n",
    "#                           cat_features=cat_cols,\n",
    "#                           random_seed = RANDOM_SEED,\n",
    "#                           eval_metric='MAPE',\n",
    "#                           custom_metric=['R2', 'MAE'],\n",
    "#                           silent=True,\n",
    "#                          )\n",
    "# model.fit(X_train, y_train,\n",
    "#          eval_set=(X_test, y_test),\n",
    "#          use_best_model=True,\n",
    "#          verbose=False,\n",
    "#          plot=True\n",
    "#          )\n",
    "\n",
    "# model.save_model('catboost_model.model')\n",
    "\n",
    "# predict = model.predict(X_test)\n",
    "# print_learn_report(start, y_test, predict)"
   ]
  },
  {
   "cell_type": "markdown",
   "metadata": {},
   "source": [
    "CatBoost\n",
    "\n",
    "1. iterations = 50\n",
    "   * Время выполнения -  0:00:09.447007\n",
    "   * Точность по метрике MAPE:24.08%\n",
    "   \n",
    "   \n",
    "2. iterations = 500\n",
    "   * Время выполнения -  0:02:03.490157\n",
    "   * Точность по метрике MAPE:19.13%\n",
    "   \n",
    "3. iterations = 5000\n",
    "   * Время выполнения -  0:23:52.186108\n",
    "   * Точность по метрике MAPE:17.65%"
   ]
  },
  {
   "cell_type": "markdown",
   "metadata": {},
   "source": [
    "## Log Traget\n",
    "\n",
    "Логарифмирование целевой переменной и подбор наилучших параметров\n",
    "\n",
    "Попробуем взять таргет в логарифм - это позволит уменьшить влияние выбросов на обучение модели (используем для этого np.log и np.exp)."
   ]
  },
  {
   "cell_type": "code",
   "execution_count": 95,
   "metadata": {},
   "outputs": [],
   "source": [
    "# start = datetime.now()\n",
    "\n",
    "\n",
    "\n",
    "# model = CatBoostRegressor(cat_features=cat_cols, iterations=5000\n",
    "#                           ,loss_function='MAPE', metric_period=10)\n",
    "\n",
    "# grid = {'learning_rate': [ 0.01, 0.1, 1]\n",
    "#         ,'depth': [3, 5, 7]\n",
    "#         ,'l2_leaf_reg': [7, 7.5, 8]\n",
    "#         }\n",
    "\n",
    "# grid_search_result = model.grid_search(grid\n",
    "#                                     ,X=X_train\n",
    "#                                     ,y=np.log(y_train)\n",
    "#                                     ,plot=True\n",
    "#                                     ,verbose=False)\n",
    "# print('\\nВремя выполнения - ', datetime.now() - start)\n",
    "# print('\\nНаилучшие параметры: ', grid_search_result['params'])\n",
    "\n",
    "\n",
    "# Наилучшие параметры:  {'depth': 12, 'l2_leaf_reg': 7.5, 'random_strength': 0.3, 'learning_rate': 0.15}\n",
    "# Наилучшие параметры:  {'depth': 12, 'l2_leaf_reg': 8, 'random_strength': 0.3, 'learning_rate': 0.15}\n",
    "\n",
    "# cb = CatBoostRegressor(iterations = 5000,\n",
    "#                        random_seed = RANDOM_SEED,\n",
    "#                        eval_metric='MAPE',\n",
    "#                        custom_metric=['R2', 'MAE'],\n",
    "#                        silent=True,\n",
    "#                        learning_rate=0.15, depth=12,\n",
    "#                        l2_leaf_reg=7.5, random_strength=0.3)\n",
    "\n",
    "# cb.fit(X_train, np.log(y_train),\n",
    "#         eval_set=(X_test, np.log(y_test)),\n",
    "#         verbose=False,\n",
    "#         use_best_model=True,\n",
    "#         plot=True)\n",
    "\n",
    "# cb.save_model('catboost_log_model.model')\n",
    "\n",
    "# predict_test = np.exp(cb.predict(X_test))\n",
    "# print_learn_report(start, y_test, predict_test)"
   ]
  },
  {
   "cell_type": "markdown",
   "metadata": {},
   "source": [
    "## Random Forest"
   ]
  },
  {
   "cell_type": "code",
   "execution_count": 96,
   "metadata": {},
   "outputs": [
    {
     "name": "stdout",
     "output_type": "stream",
     "text": [
      "\n",
      "Время выполнения -  0:00:58.485131\n",
      "Точность по метрике MAPE:15.40%\n"
     ]
    }
   ],
   "source": [
    "start = datetime.now()\n",
    "\n",
    "# random_grid = {'n_estimators': [int(x) for x in np.linspace(start = 100, stop = 400, num = 4)],\n",
    "#                'max_features': ['auto', 'sqrt'],\n",
    "#                'max_depth': [int(x) for x in np.linspace(5, 15, num = 6)] + [None],\n",
    "#                'min_samples_split': [2, 5, 10],\n",
    "#                'min_samples_leaf': [1, 2, 4],\n",
    "#                'bootstrap': [True, False]}\n",
    "\n",
    "# rfr = RandomForestRegressor(random_state = RANDOM_SEED)\n",
    "# rf_random = RandomizedSearchCV(estimator = rfr, \n",
    "#                                param_distributions = random_grid, \n",
    "#                                n_iter = 100, cv = 3, verbose=10, \n",
    "#                                random_state=RANDOM_SEED, n_jobs = -1)\n",
    "# rf_random.fit(X_train, np.log(y_train))\n",
    "# rf_random.best_params_\n",
    "\n",
    "# best_params_: \n",
    "# {'n_estimators': 300,\n",
    "# 'min_samples_split': 10,\n",
    "# 'min_samples_leaf': 1,\n",
    "# 'max_features': 'sqrt',\n",
    "# 'max_depth': None,\n",
    "# 'bootstrap': False}\n",
    "\n",
    "# best_rfr = rf_random.best_estimator_\n",
    "best_rfr = RandomForestRegressor(random_state=RANDOM_SEED,\n",
    "                                 n_estimators=300,\n",
    "                                 min_samples_split=10,\n",
    "                                 min_samples_leaf=1,\n",
    "                                 max_features='sqrt',\n",
    "                                 max_depth=None,\n",
    "                                 bootstrap=False)\n",
    "\n",
    "best_rfr.fit(X_train, np.log(y_train))\n",
    "\n",
    "\n",
    "predict_rfr = np.exp(best_rfr.predict(X_test))\n",
    "print_learn_report(start, y_test, predict_rfr)"
   ]
  },
  {
   "cell_type": "markdown",
   "metadata": {},
   "source": [
    "* Время выполнения -  0:00:58.485131\n",
    "* Точность по метрике MAPE:15.40%"
   ]
  },
  {
   "cell_type": "markdown",
   "metadata": {},
   "source": [
    "## Gradient Boosting Regressor"
   ]
  },
  {
   "cell_type": "code",
   "execution_count": 97,
   "metadata": {},
   "outputs": [
    {
     "name": "stdout",
     "output_type": "stream",
     "text": [
      "\n",
      "Время выполнения -  0:03:51.436140\n",
      "Точность по метрике MAPE:15.26%\n"
     ]
    }
   ],
   "source": [
    "start = datetime.now()\n",
    "\n",
    "# random_grid = {'n_estimators': [int(x) for x in np.linspace(start = 100, stop = 400, num = 8)],\n",
    "#                'max_features': ['auto', 'sqrt', 'log2'],\n",
    "#                'max_depth': [int(x) for x in np.linspace(5, 15, num = 6)] + [None],\n",
    "#                'min_samples_split': [2, 5, 10],\n",
    "#                'min_samples_leaf': [1, 2, 4]}\n",
    "\n",
    "# gbr = GradientBoostingRegressor()\n",
    "# gbr_random = RandomizedSearchCV(estimator = gbr, \n",
    "#                                 param_distributions = random_grid, \n",
    "#                                 n_iter = 100, \n",
    "#                                 cv = 3, \n",
    "#                                 verbose=10, \n",
    "#                                 random_state=RANDOM_SEED,\n",
    "#                                 n_jobs = -1)\n",
    "\n",
    "# gbr_random.fit(X_train, np.log(y_train))\n",
    "# gbr_random.best_params_\n",
    "\n",
    "best_gbr = GradientBoostingRegressor(random_state=RANDOM_SEED,\n",
    "                                     n_estimators=750,\n",
    "                                     min_samples_split=2,\n",
    "                                     min_samples_leaf=4,\n",
    "                                     max_features='auto',\n",
    "                                     max_depth=7)\n",
    "\n",
    "best_gbr.fit(X_train, np.log(y_train))\n",
    "\n",
    "predict_gbr = np.exp(best_gbr.predict(X_test))\n",
    "print_learn_report(start, y_test, predict_gbr)"
   ]
  },
  {
   "cell_type": "markdown",
   "metadata": {},
   "source": [
    "* Время выполнения -  0:03:51.436140\n",
    "* Точность по метрике MAPE:15.26%"
   ]
  },
  {
   "cell_type": "markdown",
   "metadata": {},
   "source": [
    "## XGB Regressor"
   ]
  },
  {
   "cell_type": "code",
   "execution_count": 98,
   "metadata": {},
   "outputs": [
    {
     "name": "stdout",
     "output_type": "stream",
     "text": [
      "\n",
      "Время выполнения -  0:00:20.411392\n",
      "Точность по метрике MAPE:15.06%\n"
     ]
    }
   ],
   "source": [
    "start = datetime.now()\n",
    "\n",
    "xgb_reg = xgb.XGBRegressor(objective='reg:squarederror', colsample_bytree=0.5,\n",
    "                          learning_rate=0.05, max_depth=7, alpha=1,\n",
    "                          n_estimators=1000)\n",
    "xgb_reg.fit(X_train, np.log(y_train))\n",
    "xgb_red_pred = np.exp(xgb_reg.predict(X_test))\n",
    "print_learn_report(start, y_test, xgb_red_pred)"
   ]
  },
  {
   "cell_type": "markdown",
   "metadata": {},
   "source": [
    "* Время выполнения -  0:00:20.411392\n",
    "* Точность по метрике MAPE:15.06%"
   ]
  },
  {
   "cell_type": "markdown",
   "metadata": {},
   "source": [
    "## BaggingRegressor"
   ]
  },
  {
   "cell_type": "markdown",
   "metadata": {},
   "source": [
    "###  + Random Forest"
   ]
  },
  {
   "cell_type": "code",
   "execution_count": 99,
   "metadata": {},
   "outputs": [
    {
     "name": "stdout",
     "output_type": "stream",
     "text": [
      "\n",
      "Время выполнения -  0:01:52.865535\n",
      "Точность по метрике MAPE:15.65%\n"
     ]
    }
   ],
   "source": [
    "start = datetime.now()\n",
    "\n",
    "bagg_rfr = BaggingRegressor(best_rfr, n_estimators=3, n_jobs=1, random_state=RANDOM_SEED)\n",
    "bagg_rfr.fit(X_train, np.log(y_train))\n",
    "predict_bagg_rfr = np.exp(bagg_rfr.predict(X_test))\n",
    "print_learn_report(start, y_test, predict_bagg_rfr)"
   ]
  },
  {
   "cell_type": "markdown",
   "metadata": {},
   "source": [
    "* Время выполнения -  0:01:52.865535\n",
    "* Точность по метрике MAPE:15.65%"
   ]
  },
  {
   "cell_type": "markdown",
   "metadata": {},
   "source": [
    "###  + Gradient Boosting Regressor"
   ]
  },
  {
   "cell_type": "code",
   "execution_count": 100,
   "metadata": {},
   "outputs": [
    {
     "name": "stdout",
     "output_type": "stream",
     "text": [
      "\n",
      "Время выполнения -  0:08:53.981971\n",
      "Точность по метрике MAPE:15.18%\n"
     ]
    }
   ],
   "source": [
    "start = datetime.now()\n",
    "\n",
    "bagg_gbr = BaggingRegressor(best_gbr, n_estimators=3, n_jobs=1, random_state=RANDOM_SEED)\n",
    "bagg_gbr.fit(X_train, np.log(y_train))\n",
    "predict_bagg_gbr = np.exp(bagg_gbr.predict(X_test))\n",
    "print_learn_report(start, y_test, predict_bagg_gbr)"
   ]
  },
  {
   "cell_type": "markdown",
   "metadata": {},
   "source": [
    "* Время выполнения -  0:08:53.981971\n",
    "* Точность по метрике MAPE:15.18%"
   ]
  },
  {
   "cell_type": "markdown",
   "metadata": {},
   "source": [
    "### + XGB Regressor"
   ]
  },
  {
   "cell_type": "code",
   "execution_count": 101,
   "metadata": {},
   "outputs": [
    {
     "name": "stdout",
     "output_type": "stream",
     "text": [
      "\n",
      "Время выполнения -  0:01:23.170178\n",
      "Точность по метрике MAPE:15.12%\n"
     ]
    }
   ],
   "source": [
    "start = datetime.now()\n",
    "\n",
    "bagg_xgb = BaggingRegressor(xgb_reg, n_estimators=3, n_jobs=1, random_state=RANDOM_SEED)\n",
    "bagg_xgb.fit(X_train, np.log(y_train))\n",
    "predict_bagg_xgb = np.exp(bagg_xgb.predict(X_test))\n",
    "print_learn_report(start, y_test, predict_bagg_xgb)"
   ]
  },
  {
   "cell_type": "markdown",
   "metadata": {},
   "source": [
    "* Время выполнения -  0:01:23.170178\n",
    "* Точность по метрике MAPE:15.12%"
   ]
  },
  {
   "cell_type": "markdown",
   "metadata": {},
   "source": [
    "#### BaggingRegressor + (результаты в порядке убывания качества):\n",
    "\n",
    "1. XGB Regressor: : результат улучшен (лучший из всех)\n",
    "2. Gradient Boosting Regressor: результат улучшен\n",
    "3. Random Forest: результат ухудшился"
   ]
  },
  {
   "cell_type": "markdown",
   "metadata": {},
   "source": [
    "# Стекинг"
   ]
  },
  {
   "cell_type": "code",
   "execution_count": 102,
   "metadata": {},
   "outputs": [
    {
     "name": "stdout",
     "output_type": "stream",
     "text": [
      "MAPE = 16.876187371145086%\n"
     ]
    }
   ],
   "source": [
    "# для композиции выберем базовые регрессоры\n",
    "estimators = [ ('bagg_rfr', bagg_rfr),\n",
    "              ('gbr', best_gbr),\n",
    "              ('rfr', best_rfr)]\n",
    "# для итогового - регрессор с лучшей итоговой метрикой\n",
    "final_estimator = bagg_xgb\n",
    "\n",
    "reg = StackingRegressor(\n",
    "     estimators=estimators,\n",
    "     final_estimator=final_estimator)\n",
    "reg.fit(X_train, y_train)\n",
    "y_pred = reg.predict(X_test)\n",
    "print(f'MAPE = {mape(y_test, y_pred)*100}%')"
   ]
  },
  {
   "cell_type": "markdown",
   "metadata": {},
   "source": [
    "Время выполнения -  0:18:28.895312\n",
    "Точность по метрике MAPE:15.26%\n",
    "\n",
    "* Стекинг с настроенными базовыми моделями и с моделями по умолчанию не показал существенных отличий"
   ]
  },
  {
   "cell_type": "code",
   "execution_count": null,
   "metadata": {},
   "outputs": [],
   "source": []
  }
 ],
 "metadata": {
  "colab": {
   "collapsed_sections": [],
   "name": "[DSPR-26] Car Price prediction_Dmitry_L.ipynb",
   "provenance": [],
   "toc_visible": true
  },
  "kernelspec": {
   "display_name": "Python 3",
   "language": "python",
   "name": "python3"
  },
  "language_info": {
   "codemirror_mode": {
    "name": "ipython",
    "version": 3
   },
   "file_extension": ".py",
   "mimetype": "text/x-python",
   "name": "python",
   "nbconvert_exporter": "python",
   "pygments_lexer": "ipython3",
   "version": "3.8.8"
  }
 },
 "nbformat": 4,
 "nbformat_minor": 1
}
